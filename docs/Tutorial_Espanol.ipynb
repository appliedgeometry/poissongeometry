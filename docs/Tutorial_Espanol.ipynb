{
  "nbformat": 4,
  "nbformat_minor": 0,
  "metadata": {
    "colab": {
      "name": "Tutorial_Espanol.ipynb",
      "provenance": [],
      "private_outputs": true,
      "collapsed_sections": []
    },
    "kernelspec": {
      "name": "python3",
      "display_name": "Python 3"
    }
  },
  "cells": [
    {
      "cell_type": "markdown",
      "metadata": {
        "id": "H0wjLts7heTu",
        "colab_type": "text"
      },
      "source": [
        "# **`PoissonGeometry`**"
      ]
    },
    {
      "cell_type": "markdown",
      "metadata": {
        "id": "tZWiq2OHhwn8",
        "colab_type": "text"
      },
      "source": [
        "## **Instalando `PoissonGeometry`**\n",
        "\n",
        "Para descargar e instalar el módulo `PoissonGeometry` simplemente ejecute:\n"
      ]
    },
    {
      "cell_type": "code",
      "metadata": {
        "id": "Dkj4pbAXhUz7",
        "colab_type": "code",
        "colab": {}
      },
      "source": [
        "!pip install poissongeometry==0.1.2\n",
        "!pip install galgebra==0.4.3"
      ],
      "execution_count": 0,
      "outputs": []
    },
    {
      "cell_type": "markdown",
      "metadata": {
        "id": "7vqOK2uuQzos",
        "colab_type": "text"
      },
      "source": [
        "Para verficar que el módulo fue instaldo correctamente ejecute:"
      ]
    },
    {
      "cell_type": "code",
      "metadata": {
        "id": "0kOBEtWDRBOK",
        "colab_type": "code",
        "colab": {}
      },
      "source": [
        "def test_poissongeometry():\n",
        "  \"\"\" Este metodo verifica si el modulo fue instalado correctamente \"\"\"\n",
        "  try:\n",
        "    import poisson\n",
        "    result = 'El módulo fue instalado correctamente'\n",
        "  except:\n",
        "    result = 'El módulo NO fue instalado correctamete'\n",
        "  return result\n",
        "\n",
        "test_poissongeometry()"
      ],
      "execution_count": 0,
      "outputs": []
    },
    {
      "cell_type": "markdown",
      "metadata": {
        "id": "99Azltx5QVrf",
        "colab_type": "text"
      },
      "source": [
        "**Más información:** en [Github](https://github.com/appliedgeometry/poissongeometry) o en la página [PyPi](https://pypi.org/project/poissongeometry/) "
      ]
    },
    {
      "cell_type": "markdown",
      "metadata": {
        "id": "3N56zlayp0Fx",
        "colab_type": "text"
      },
      "source": [
        "## **Preparando del entorno para trabajar con `PoissonGeometry`***.\n"
      ]
    },
    {
      "cell_type": "markdown",
      "metadata": {
        "id": "saL1uA-cmGtx",
        "colab_type": "text"
      },
      "source": [
        "### Obteniendo formato $\\LaTeX$ \n",
        "\n",
        "Con este código puede imprimir los resultados de ciertas funciones en `PoissonGeometry` con tipografía $\\LaTeX$:"
      ]
    },
    {
      "cell_type": "code",
      "metadata": {
        "id": "jWXPp10XmGEs",
        "colab_type": "code",
        "colab": {}
      },
      "source": [
        "import sympy\n",
        "def custom_latex_printer(exp, **options):\n",
        "    from google.colab.output._publish import javascript\n",
        "    url = \"https://cdnjs.cloudflare.com/ajax/libs/mathjax/2.7.3/latest.js?config=default\"\n",
        "    javascript(url=url)\n",
        "    return sympy.printing.latex(exp, **options)\n",
        "sympy.init_printing(use_latex=\"mathjax\", latex_printer=custom_latex_printer)"
      ],
      "execution_count": 0,
      "outputs": []
    },
    {
      "cell_type": "markdown",
      "metadata": {
        "id": "Ka25VHNeMJX0",
        "colab_type": "text"
      },
      "source": [
        "### Bandera $\\LaTeX$:\n",
        "\n",
        "* Para imprimir el resultado de una función en código $\\LaTeX$ sólo tenemos que añadir la bandera `latex_format=True`, cuyo valor por defecto es `False`:\n",
        "\n",
        "        function_name(param_1, ..., param_n, latex_format=True)"
      ]
    },
    {
      "cell_type": "markdown",
      "metadata": {
        "id": "0tPr4gCJFkmC",
        "colab_type": "text"
      },
      "source": [
        "### Sintaxis"
      ]
    },
    {
      "cell_type": "markdown",
      "metadata": {
        "id": "N2jx6-lyFqNA",
        "colab_type": "text"
      },
      "source": [
        "* Una función escalar en `PoissonGeometry` se escribe usando *expresiones de cadena*.\n",
        "\n",
        "    Por ejemplo, la función $f:\\mathbb{R}_{x}^{3} \\to \\mathbb{R}$ dada por\n",
        "    \n",
        "    $$f(x_1,x_2,x_3) = ax_1^2 + bx_2^2 + cx_3^2, \\quad a,b,c \\in \\mathbb{R}$$\n",
        "    \n",
        "    se debe escribir como:\n",
        "```\n",
        "\"a*x1**2 + b*x2**2 + c*x3**2\"\n",
        "```\n",
        "Aquí, `x1, x2, x3` son variables simbólicas que `PoissonGeometry` define por defecto y que representan en este caso las coordenadas $(x_1,x_2,x_3)$.\n",
        "\n",
        "    **Observación.** Todos los caracteres que no son coordenadas locales se tratan como parámetros (simbólicos). Por ejemplo `a`, `b`, `c` en la expresión anterior.\n",
        "\n",
        "    **Nota.** Python admite las siguientes operaciones básicas:\n",
        "\n",
        "| Expression | Description  || Expression | Description    |\n",
        "| :--------: | ------------ || :--------: | -------------- |\n",
        "| +          | Suma         || *          | Multiplicación |\n",
        "| -          | Resta        || **         | Potencia |\n",
        "| /          | División     ||\n",
        "\n",
        "* Un campo multivectorial o una forma diferencial en `Poisson Geometry` se escriben usando *diccionarios* con *tuplas de enteros* como **claves** y *expresiones de cadena* como **valores**. \n",
        "\n",
        "    Por ejemplo, en $\\mathbb{R}^{3}$: \n",
        "    * El campo vectorial $x_1\\frac{\\partial}{\\partial x_1} + x_2\\frac{\\partial}{\\partial x_2} + x_3 \\frac{\\partial}{\\partial x_3}$ debe escribirse como \\\\\n",
        "```{(1,):'x1', (2,):'x2', (3,):'x3'}```\n",
        "\n",
        "    * El campo bivectorial $x_1\\frac{\\partial}{\\partial x_1}\\wedge \\frac{\\partial}{\\partial x_2} - x_2\\frac{\\partial}{\\partial x_1}\\wedge \\frac{\\partial}{\\partial x_3} + x_3 \\frac{\\partial}{\\partial x_2}\\wedge \\frac{\\partial}{\\partial x_3}$ debe escribirse como \\\\\n",
        "```{(1,2):'x1', (1,3):'-x2', (2,3):'x3'}```\n",
        "\n",
        "    * El 3-campo multivectorial $x_1\\frac{\\partial}{\\partial x_1}\\wedge \\frac{\\partial}{\\partial x_2}\\wedge \\frac{\\partial}{\\partial x_3}$ debe escribirse como \\\\\n",
        "```{(1,2,3):'x1'}```\n",
        "\n",
        "**Observaciones:**\n",
        "1. En `Python`, a una variable \\\\\n",
        "```{key_1: value_1, ..., key_n: value_n}``` \\\\\n",
        "se le llama 'diccionario'. Cada `key_1,...,key_n` es llamada una *llave* del diccionario y cada `value_1,...,value_n` el *valor* de la correspondiente llave.\n",
        "\n",
        "2. En nuestro caso, cada clave es una variable de tipo `tupla` y cada valor una variable de tipo `cadena (string)'. \n",
        "\n",
        "    Si tenemos un multivector $A$ de grado $a$ en $\\mathbb{R}^{m}$ $$A = \\sum_{1 \\leq i_1 < i_2 < \\cdots < i_a \\leq m} A^{i_1 i_2 \\cdots i_a}\\,\\frac{\\partial}{\\partial{x_{i_1}}} \\wedge \\frac{\\partial}{\\partial{x_{i_2}}} \\wedge \\cdots \\wedge \\frac{\\partial}{\\partial{x_{i_a}}},$$ \\\\\n",
        "\n",
        "    las llaves del diccionario deben ser tuplas $(i_1,i_2,\\ldots,i_a)$ que corresponden a los índices ordenados $i_1 i_2 \\cdots i_a$ de $A^{i_1 i_2 \\cdots i_a}$ y los valores la correspondiente expressión de cadena del coeficiente (función escalar) $A^{i_1 i_2 \\cdots i_a}$.\n",
        "\n",
        "    **Nota.** Podemos escribir solamente las claves y valores de los *coeficientes no nulos*.\n",
        "\n",
        "3. Podemos cambiar el orden de los índices en cada tupla añadiendo el signo menos en el correspondiente valor. \n",
        "\n",
        "    Por ejemplo,\n",
        "    \n",
        "    * El campo bivectorial $x_1\\frac{\\partial}{\\partial x_1}\\wedge \\frac{\\partial}{\\partial x_2}$ se puede escribir \\\\\n",
        "    ```{(1,2): 'x1'}```\n",
        "    \n",
        "        o como\n",
        "\n",
        "        ```{(2,1): '-x1'}```\n",
        "\n",
        "     donde este último diccionario corresponde al campo bivectorial $-x_1\\frac{\\partial}{\\partial x_2}\\wedge \\frac{\\partial}{\\partial x_1}$.\n",
        "\n",
        "     **Nota.** Aunque tenemos la opción de ignorar el orden de los índices, recomendamos no hacerlo para evitar posibles errores de cálculo.\n",
        "\n",
        "4. La sintaxis para formas diferenciales es la misma que para campos multivectoriales.\n",
        "\n",
        "    Por ejemplo, la 2-forma diferencial en $\\mathbb{R}_{x}^4$ \n",
        "    \n",
        "    $$-\\mathrm{d}x_{1} \\wedge \\mathrm{d}x_{2} - (x_1 + x_4)\\mathrm{d}x_{3} \\wedge \\mathrm{d}x_{4}$$ \n",
        "    \n",
        "    puede escribirse como \\\\\n",
        "```{(1,2):'-1', (3,4): '-(x1 + x4)'}```\n",
        "\n",
        "5. Finalmente, en `PoissonGeometry` se usa la siguiente notación:\n",
        "    *   `Dxi` es equivalente a $\\frac{\\partial}{\\partial x_{i}}$. \n",
        "    *   `dxi` es qeuivalente a  $\\mathrm{d}x_{i}$.\n",
        "\n",
        " Esta asignación se da porque en `SymPy` no es posible definir variables $\\frac{\\partial}{\\partial x_{i}}$ o $\\mathrm{d}x_{i}$."
      ]
    },
    {
      "cell_type": "markdown",
      "metadata": {
        "id": "j7vZLP4iOdf_",
        "colab_type": "text"
      },
      "source": [
        "## **Probando la clase `PoissonGeometry`**."
      ]
    },
    {
      "cell_type": "markdown",
      "metadata": {
        "id": "s8JOrz0sQxfq",
        "colab_type": "text"
      },
      "source": [
        "### Instanciación y conocimiento de la Clase "
      ]
    },
    {
      "cell_type": "markdown",
      "metadata": {
        "id": "iAFs1yNpOvBs",
        "colab_type": "text"
      },
      "source": [
        "Primero, es necesario instanciar la clase. Para ello, debemos decirle a `PoissonGeometry` la dimensión y la variable simbólica que nombra a las coordenadas.\n",
        "\n",
        "Por ejemplo, si queremos trabajar en la dimensión 4 y usar $z$ para nombrar a las coordenadas:"
      ]
    },
    {
      "cell_type": "code",
      "metadata": {
        "id": "qJOBzQH09x6X",
        "colab_type": "code",
        "colab": {}
      },
      "source": [
        "# Importamos la clase y le damos un nombre corto por simplicidad\n",
        "from poisson.poisson import PoissonGeometry as pg\n",
        "\n",
        "# Declaramos las variables y la dimensión\n",
        "p = pg(4, variable=\"z\")"
      ],
      "execution_count": 0,
      "outputs": []
    },
    {
      "cell_type": "markdown",
      "metadata": {
        "id": "Qkd46_00S1fe",
        "colab_type": "text"
      },
      "source": [
        "**Observación:** Por defecto, `variable`=`\"x\"`."
      ]
    },
    {
      "cell_type": "markdown",
      "metadata": {
        "id": "Adts-lW9Qa93",
        "colab_type": "text"
      },
      "source": [
        "Para conocer la dimensión en la que estamos trabajando escriba:\n",
        "\n",
        "\n",
        "\n"
      ]
    },
    {
      "cell_type": "code",
      "metadata": {
        "id": "xkc5gi5YQtqy",
        "colab_type": "code",
        "colab": {}
      },
      "source": [
        "p.dim"
      ],
      "execution_count": 0,
      "outputs": []
    },
    {
      "cell_type": "markdown",
      "metadata": {
        "id": "Vjo2abh-RWYj",
        "colab_type": "text"
      },
      "source": [
        "Para conocer las coordenadas (actuales) escriba:"
      ]
    },
    {
      "cell_type": "code",
      "metadata": {
        "id": "9yX4IWOIReHy",
        "colab_type": "code",
        "colab": {}
      },
      "source": [
        "p.coordinates"
      ],
      "execution_count": 0,
      "outputs": []
    },
    {
      "cell_type": "markdown",
      "metadata": {
        "id": "bbktbS-RRiSc",
        "colab_type": "text"
      },
      "source": [
        "Adicionalmente, `PoissonGeometry` construye una base $\\left\\{\\frac{\\partial}{\\partial x_{1}},...,\\frac{\\partial}{\\partial x_{n}}\\right\\}$ de campos vectoriales. En nuestro actual ejemplo, para $n=4$."
      ]
    },
    {
      "cell_type": "code",
      "metadata": {
        "id": "XCaI1N12R4Ta",
        "colab_type": "code",
        "colab": {}
      },
      "source": [
        "p.Dx_basis "
      ],
      "execution_count": 0,
      "outputs": []
    },
    {
      "cell_type": "markdown",
      "metadata": {
        "id": "oGlWrr5ESD2U",
        "colab_type": "text"
      },
      "source": [
        "Aún más, es posible operar sobre esta base. Por ejemplo, para calcular productos exteriores:"
      ]
    },
    {
      "cell_type": "code",
      "metadata": {
        "id": "KatLPBRkSK8e",
        "colab_type": "code",
        "colab": {}
      },
      "source": [
        "Dz1, Dz2, Dz3, Dz4 = p.Dx_basis\n",
        "print(F'Wedge product of Dz1 with Dz2: {Dz1 ^ Dz2}') # El producto exterior en Galgebra se indica con el símbolo ^\n",
        "print(F'Wedge product of Dz1 with Dz2: {Dz1 ^ Dz1}')"
      ],
      "execution_count": 0,
      "outputs": []
    },
    {
      "cell_type": "markdown",
      "metadata": {
        "id": "Uhy-Fw6sTmzJ",
        "colab_type": "text"
      },
      "source": [
        "Las siguientes operaciones se pueden realizar en `Galgebra`:\n",
        "\n",
        "| Expresión | Descripción | Expresión  | Descripción |\n",
        "| :----------: | ----------  | :----------: | ----------  |\n",
        "| *          | Multiplicación | ^         | Producto exterior |\n",
        "| +          | Suma        | - | Resta |"
      ]
    },
    {
      "cell_type": "markdown",
      "metadata": {
        "id": "_L8DKsEoU1Ae",
        "colab_type": "text"
      },
      "source": [
        "## **Funciones de `PoissonGeometry`**"
      ]
    },
    {
      "cell_type": "markdown",
      "metadata": {
        "id": "YUciNrw3VWA6",
        "colab_type": "text"
      },
      "source": [
        "### Función: `bivector_to_matrix`\n",
        "\n",
        "    CALCULA LA MATRIZ DE UN CAMPO BIVECTORIAL\n",
        "\n"
      ]
    },
    {
      "cell_type": "markdown",
      "metadata": {
        "id": "9iovnol2pfpA",
        "colab_type": "text"
      },
      "source": [
        "Por ejemplo, la matriz del campo bivectorial en $\\mathbb{R}^4$\n",
        "\n",
        "$$\\Pi = x_3\\frac{\\partial}{\\partial x_1}\\wedge \\frac{\\partial}{\\partial x_2} - x_2\\frac{\\partial}{\\partial x_1}\\wedge \\frac{\\partial}{\\partial x_3} + x_1 \\frac{\\partial}{\\partial x_2}\\wedge \\frac{\\partial}{\\partial x_3},$$ \n",
        "\n",
        "se puede calcular de la siguiente manera:"
      ]
    },
    {
      "cell_type": "code",
      "metadata": {
        "id": "iJwfSpqffzTf",
        "colab_type": "code",
        "colab": {}
      },
      "source": [
        "from poisson.poisson import PoissonGeometry\n",
        "pg4 = PoissonGeometry(4)\n",
        "\n",
        "# Ingresamos el campo bivectorial\n",
        "bivector = {(1,2): 'x3', (1,3): '-x2', (2,3): 'x1'}\n",
        "\n",
        "pg4.bivector_to_matrix(bivector)"
      ],
      "execution_count": 0,
      "outputs": []
    },
    {
      "cell_type": "markdown",
      "metadata": {
        "id": "pIDMJOQIXUaZ",
        "colab_type": "text"
      },
      "source": [
        "**Recuerde.** Si queremos el código $\\LaTeX$ de la matriz anterior sólo tenemos que añadir la bandera `latex_format=True`, cuyo valor por defecto es `False`:"
      ]
    },
    {
      "cell_type": "code",
      "metadata": {
        "id": "vLbRu_yEXuLy",
        "colab_type": "code",
        "colab": {}
      },
      "source": [
        "print(pg4.bivector_to_matrix(bivector, latex_format=True))"
      ],
      "execution_count": 0,
      "outputs": []
    },
    {
      "cell_type": "markdown",
      "metadata": {
        "id": "0qo2VEonRmG0",
        "colab_type": "text"
      },
      "source": [
        "* El 'poder' de `latex_format`: solo necesita copiar y pegar el resultado en un archivo `.tex`"
      ]
    },
    {
      "cell_type": "markdown",
      "metadata": {
        "id": "ELtIu9osYiJg",
        "colab_type": "text"
      },
      "source": [
        "###Función: `sharp_morphism`\n",
        "\n",
        "        CALCULA LA IMAGEN DE UNA 1-FORMA DIFERENCIAL BAJO EL MORFISMO DE HACES VECTORIALES 'SHARP' INDUCIDO POR UN CAMPO BIVECTORIAL"
      ]
    },
    {
      "cell_type": "markdown",
      "metadata": {
        "id": "Bo3RZOvHYz7l",
        "colab_type": "text"
      },
      "source": [
        "Por ejemplo, considere el campo bivectorial de Lie-Poisson en\n",
        " $\\mathbb{R}^{3}$ $$\\Pi = x_3\\frac{\\partial}{\\partial x_1}\\wedge \\frac{\\partial}{\\partial x_2} - x_2\\frac{\\partial}{\\partial x_1}\\wedge \\frac{\\partial}{\\partial x_3} + x_1 \\frac{\\partial}{\\partial x_2}\\wedge \\frac{\\partial}{\\partial x_3},$$ \\\\\n",
        " \n",
        "asociado al álgebra de Lie $\\mathfrak{so}(3)$ [4], y la 1-forma diferencial $$\\alpha = x_1 \n",
        "dx_{1} + x_{2} dx_{2} + x_{3} dx_{3}.$$ \\\\\n",
        "Para calcular *$\\Pi^{\\natural}(\\alpha)$*, ejecute:"
      ]
    },
    {
      "cell_type": "code",
      "metadata": {
        "id": "ktUxb1WIaXel",
        "colab_type": "code",
        "colab": {}
      },
      "source": [
        "from poisson.poisson import PoissonGeometry\n",
        "pg3 = PoissonGeometry(3)\n",
        "\n",
        "# Ingresamos el campo bivectorial y la 1-forma diferencial\n",
        "bivector = {(1,2): 'x3', (1,3): '-x2', (2,3): 'x1'}\n",
        "alpha = {(1,): 'x1', (2,): 'x2', (3,): 'x3'}\n",
        "\n",
        "pg3.sharp_morphism(bivector, alpha)"
      ],
      "execution_count": 0,
      "outputs": []
    },
    {
      "cell_type": "markdown",
      "metadata": {
        "id": "cSCg9v6dazZh",
        "colab_type": "text"
      },
      "source": [
        "Por lo tanto, $\\Pi^{\\natural}(\\alpha)=0$."
      ]
    },
    {
      "cell_type": "markdown",
      "metadata": {
        "id": "IbRU3kMvbiD7",
        "colab_type": "text"
      },
      "source": [
        "###Función: `hamiltonian_vf`\n",
        "\n",
        "        CALCULA EL CAMPO VECTORIAL HAMILTONIANO DE UNA FUNCIÓN ESCALAR CON RESPECTO A UN CAMPO BIVECTORIAL DE POISSON"
      ]
    },
    {
      "cell_type": "markdown",
      "metadata": {
        "id": "125DR5msb6Rb",
        "colab_type": "text"
      },
      "source": [
        "Por ejemplo, considere el campo bivectorial de Poisson en $\\mathbb{R}^{6}$\n",
        "$$\\Pi = \\frac{\\partial}{\\partial x_1}\\wedge \\frac{\\partial}{\\partial x_4} + \\frac{\\partial}{\\partial x_2}\\wedge \\frac{\\partial}{\\partial x_5} + \\frac{\\partial}{\\partial x_3}\\wedge \\frac{\\partial}{\\partial x_6},$$ y la función\n",
        "$$h = -\\frac{1}{x_{2}-x_{1}}-\\frac{1}{x_{3}-x_{1}}-\\frac{1}{x_{3}-x_{2}} + \\frac{1}{2} (x_{4}^{2} + x_{5}^{2} + x_{6}^{2}).$$\n",
        "\n",
        "El campo vectorial Hamiltoniano de $h$ con respecto a $\\Pi$ es dado por\n",
        "\\begin{align}\n",
        "    X_{h} &= - x_4\\frac{\\partial}{\\partial{x_1}}- x_5\\frac{\\partial}{\\partial{x_2}} - x_6\\frac{\\partial}{\\partial{x_3}} + \\left[ \\frac{1}{(x_1-x_3)|x_1-x_3|} + \\frac{1}{(x_1-x_2)|x_1-x_2|} \\right]\\frac{\\partial}{\\partial{x_4}} \\\\\n",
        "    &+ \\left[ \\frac{1}{(x_2-x_3)|x_2-x_3|} + \\frac{1}{(x_1-x_2)|x_1-x_2|} \\right]\\frac{\\partial}{\\partial{x_5}} -\\left[ \\frac{1}{(x_2-x_3)|x_2-x_3|} + \\frac{1}{(x_1-x_3)|x_1-x_3|} \\right]\\frac{\\partial}{\\partial{x_6}}.\n",
        "\\end{align}\n",
        "\n",
        "Este campo vectorial es el asociado al sistema Hamiltoniano de un caso particular del problema de los tres cuerpos[3]. \n",
        "Para calcular este campo vectorial con `Poisson Geometry`, ejecute:\n"
      ]
    },
    {
      "cell_type": "code",
      "metadata": {
        "id": "b_lWjl3Ve7hs",
        "colab_type": "code",
        "colab": {}
      },
      "source": [
        "# Este módulo es para una impresión más legible de Python\n",
        "import pprint \n",
        "pp = pprint.PrettyPrinter(indent=2)\n",
        "\n",
        "# Instanciamos la clase \n",
        "from poisson.poisson import PoissonGeometry \n",
        "pg6 = PoissonGeometry(6)\n",
        "\n",
        "bivector = {(1,4):  '1', (2,5):  '1', (3,6):  '1'}\n",
        "h = '- 1/sqrt((x2 - x1)**2) - 1/sqrt((x3 - x1)**2) - 1/sqrt((x3 - x2)**2)+ 1/2*(x4**2 + x5**2 + x6**2)'\n",
        "\n",
        "pp.pprint(pg6.hamiltonian_vf(bivector, h))"
      ],
      "execution_count": 0,
      "outputs": []
    },
    {
      "cell_type": "markdown",
      "metadata": {
        "id": "ovD9guIJhvYV",
        "colab_type": "text"
      },
      "source": [
        "Debemos recordar que declaramos `Dxi` $\\equiv \\frac{\\partial}{\\partial x_{i}}$."
      ]
    },
    {
      "cell_type": "markdown",
      "metadata": {
        "id": "1W1swc2xlHFU",
        "colab_type": "text"
      },
      "source": [
        "###Función: `lichnerowicz_poisson_operator`\n",
        "\n",
        "            CALCULA LA IMAGEN DE UN CAMPO MULTIVECTORIAL BAJO EL OPERADOR DE COFRONTERA INDUCIDO POR UN CAMPO BIVECTORIAL DE POISSON, \n",
        "            RELATIVO AL CORCHETE DE SCHOUTEN-NIJENHUIS PARA CAMPOS MULTIVECTORIALES\n"
      ]
    },
    {
      "cell_type": "markdown",
      "metadata": {
        "id": "TDuJrU1blgsA",
        "colab_type": "text"
      },
      "source": [
        "Consideremos el campo bivectorial en $\\mathbb{R}^{3}$\n",
        "$$\\Pi = x_{1}\\frac{\\partial}{\\partial x_1}\\wedge \\frac{\\partial}{\\partial x_2} - ax_{1}x_{3} \\frac{\\partial}{\\partial x_1}\\wedge \\frac{\\partial}{\\partial x_3} + x_3(2x_{1} - ax_{2}) \\frac{\\partial}{\\partial x_2}\\wedge \\frac{\\partial}{\\partial x_3},$$ el 3-campo multivectorial $$A = (bx_{2}^{2}x_{3} + c)\\frac{\\partial}{\\partial x_1}\\wedge \\frac{\\partial}{\\partial x_2}\\wedge \\frac{\\partial}{\\partial x_3}.$$\n",
        "\n",
        "En general, calcular el corchete de Schouten-Nijenhuis entre dos multivectores es una cuestión complicada. \n",
        "\n",
        "La clase `PoissonGeometry` puede hacer este cálculo muy rápidamente!\n",
        ":"
      ]
    },
    {
      "cell_type": "code",
      "metadata": {
        "id": "8s3t4GMkmqH-",
        "colab_type": "code",
        "colab": {}
      },
      "source": [
        "from poisson.poisson import PoissonGeometry\n",
        "pg3 = PoissonGeometry(3)\n",
        "\n",
        "P = {(1,2): 'x1**2', (1,3): '-a*x1*x3', (2,3): 'x3*(2*x1 - a*x2)'}\n",
        "A = {(1,2,3): 'b*x2**2*x3 + c'}\n",
        "pg3.lichnerowicz_poisson_operator(P, A)"
      ],
      "execution_count": 0,
      "outputs": []
    },
    {
      "cell_type": "markdown",
      "metadata": {
        "id": "hfucn9oznoNC",
        "colab_type": "text"
      },
      "source": [
        "Por tanto, $A$ es un cociclo de $\\Pi$. El grupo de cohomología formal de grado 3 del complejo de Lichnerowicz-Poisson de $\\Pi$ es dado por (see [1]):\n",
        "\n",
        "$$\\mathscr{H}^{3}(\\Pi) \\simeq\\ \\mathbb{R} \\cdot \\frac{\\partial}{\\partial{x_{1}}} \\wedge \\frac{\\partial}{\\partial{x_{2}}} \\wedge \\frac{\\partial}{\\partial{x_{3}}} \\bigoplus \\mathbb{R} \\cdot x_{2}^2x_{3}\\,\\frac{\\partial}{\\partial{x_{1}}} \\wedge \\frac{\\partial}{\\partial{x_{2}}} \\wedge \\frac{\\partial}{\\partial{x_{3}}}.$$"
      ]
    },
    {
      "cell_type": "markdown",
      "metadata": {
        "id": "gq3BTHfTB88f",
        "colab_type": "text"
      },
      "source": [
        "### Función: `curl_operator`"
      ]
    },
    {
      "cell_type": "markdown",
      "metadata": {
        "id": "1DdoN8KsCBoZ",
        "colab_type": "text"
      },
      "source": [
        "Considere el siguiente campo bivectorial de Poisson (Flaskcha-Ratiu) en $\\mathbb{R}^6$\n",
        "\n",
        "$$\\Pi = x_{1}x_{2}\\frac{\\partial}{\\partial x_1}\\wedge \\frac{\\partial}{\\partial x_2} - x_{1}x_{3} \\frac{\\partial}{\\partial x_1}\\wedge \\frac{\\partial}{\\partial x_3} + x_2 x_3 \\frac{\\partial}{\\partial x_2}\\wedge \\frac{\\partial}{\\partial x_3} + \\frac{\\partial}{\\partial x_3}\\wedge \\frac{\\partial}{\\partial x_4} - \\frac{\\partial}{\\partial x_3}\\wedge \\frac{\\partial}{\\partial x_5} + \\frac{\\partial}{\\partial x_4}\\wedge \\frac{\\partial}{\\partial x_6}.$$\n",
        "\n",
        "Con `curl_operator` podemos calcular la divergencia de $\\Pi$ respecto a la forma de volumen $f\\Omega_{0}$ en $\\mathbb{R}^6$, donde $\\Omega_{0}$ es la forma de volumen euclídea y $f$ es una función no nula:"
      ]
    },
    {
      "cell_type": "code",
      "metadata": {
        "id": "DUP0cRanFIYG",
        "colab_type": "code",
        "colab": {}
      },
      "source": [
        "from poisson.poisson import PoissonGeometry\n",
        "pg6 = PoissonGeometry(6)\n",
        "\n",
        "bivector = {(1,2): 'x1*x2', (1,3): '-x1*x3', (2,3): 'x2*x3', (3,4): '1', (3,5): '-1', (4,6): '1'}\n",
        "pg6.curl_operator(bivector, 1)"
      ],
      "execution_count": 0,
      "outputs": []
    },
    {
      "cell_type": "markdown",
      "metadata": {
        "id": "ZThVR40mFlDE",
        "colab_type": "text"
      },
      "source": [
        "Por tanto, la divergencia de $\\Pi$ es trivial. \n",
        "\n",
        "__Observación.__ El parámetro `1` en `curl_operator` significa que $f \\equiv 1$, por lo tanto la divergencia es con respecto al volumen euclidiano $\\Omega_{0}$ en $\\mathbb{R}^6$."
      ]
    },
    {
      "cell_type": "markdown",
      "metadata": {
        "id": "yeE2TTFnp7p1",
        "colab_type": "text"
      },
      "source": [
        "### Función: `poisson_bracket`\n",
        "\n",
        "            CALCULA EL CORCHETE DE POISSON, INDUCIDO POR UN CAMPO BIVECTORIAL DE POISSON, DE DOS FUNCIONES ESCALARES"
      ]
    },
    {
      "cell_type": "markdown",
      "metadata": {
        "id": "oW1QDUkVqFid",
        "colab_type": "text"
      },
      "source": [
        "Por ejemplo, considere el campo bivectorial de Lie-Poisson en $\\mathbb{R}^{3}$,\n",
        "\n",
        "$$\\Pi = x_3\\frac{\\partial}{\\partial x_1}\\wedge \\frac{\\partial}{\\partial x_2} - x_2\\frac{\\partial}{\\partial x_1}\\wedge \\frac{\\partial}{\\partial x_3} + x_1 \\frac{\\partial}{\\partial x_2}\\wedge \\frac{\\partial}{\\partial x_3},$$\n",
        "\n",
        "asociado al álgebra de Lie $\\mathfrak{sl}(2)$ [7]. Es bien conocido que $\\{x_{1},x_{2}\\}_{\\Pi} = -x_{3}$, $\\{x_{2},x_{3}\\}_{\\Pi} = x_{1}$ y $\\{x_{3},x_{1}\\}_{\\Pi} = x_{2}$ son las relaciones de conmutación de esta álgebra de Lie:"
      ]
    },
    {
      "cell_type": "code",
      "metadata": {
        "id": "lTFRBvggr7bl",
        "colab_type": "code",
        "colab": {}
      },
      "source": [
        "from poisson.poisson import PoissonGeometry\n",
        "pg3 = PoissonGeometry(3)\n",
        "\n",
        "bivector ={(1,2): '-x3', (1,3): '-x2', (2,3): 'x1'}\n",
        "x1_x2 = pg3.poisson_bracket(bivector, 'x1', 'x2')\n",
        "x2_x3 = pg3.poisson_bracket(bivector, 'x2', 'x3')\n",
        "x3_x1 = pg3.poisson_bracket(bivector, 'x3', 'x1')\n",
        "\n",
        "print(F'{{x1, x2}} = {x1_x2}')\n",
        "print(F'{{x2, x3}} = {x2_x3}')\n",
        "print(F'{{x3, x1}} = {x3_x1}')"
      ],
      "execution_count": 0,
      "outputs": []
    },
    {
      "cell_type": "markdown",
      "metadata": {
        "id": "j---ZPvdUa5s",
        "colab_type": "text"
      },
      "source": [
        "###Función: `modular_vf`"
      ]
    },
    {
      "cell_type": "markdown",
      "metadata": {
        "id": "6LlVAkWHibiy",
        "colab_type": "text"
      },
      "source": [
        "Considere el campo bivectorial de Poisson en $\\mathbb{R}^{4}$\n",
        "$$\\Pi = 2x_{4}\\frac{\\partial}{\\partial x_1}\\wedge \\frac{\\partial}{\\partial x_3} + 2x_{3} \\frac{\\partial}{\\partial x_1}\\wedge \\frac{\\partial}{\\partial x_4} - 2x_{4} \\frac{\\partial}{\\partial x_2}\\wedge \\frac{\\partial}{\\partial x_3} + 2x_{3} \\frac{\\partial}{\\partial x_2}\\wedge \\frac{\\partial}{\\partial x_4} + (x_{1}-x_{2}) \\frac{\\partial}{\\partial x_3}\\wedge \\frac{\\partial}{\\partial x_4}.$$ Este campo bivectorial es un caso particular de una familia de campos bivectoriales de Poisson que surgen en el análisis de la estabilidad orbital del oscilador de Pais-Uhlenbeck.\n",
        "\n",
        "* La función `modular_vf` calcula el campo modular de $\\Pi$ respecto a una forma de volumen $f\\Omega_{0}$ en $\\mathbb{R}^4$ ( aquí $f$ es una función no nula y $\\Omega_{0}$ es la forma de volumen euclidiana en $\\mathbb{R}^4$ ):"
      ]
    },
    {
      "cell_type": "code",
      "metadata": {
        "id": "keGBq86SkUXg",
        "colab_type": "code",
        "colab": {}
      },
      "source": [
        "from poisson.poisson import PoissonGeometry\n",
        "pg4 = PoissonGeometry(4)\n",
        "\n",
        "bivector ={(1,3):'2*x4', (1,4): '2*x3', (2,3): '-2*x4', (2,4): '2*x3', (3,4):'x1-x2'}\n",
        "pg4.modular_vf(bivector, 1)"
      ],
      "execution_count": 0,
      "outputs": []
    },
    {
      "cell_type": "markdown",
      "metadata": {
        "id": "JdHsYDzkqDGu",
        "colab_type": "text"
      },
      "source": [
        "Por tanto, en este caso el campo modular de $\\Pi$ respecto a la forma de volumen euclídea es trivial.\n",
        "\n",
        "__Nota__: La segunda entrada para la función `curl_operator`, en este ejemplo `1`, puede tomar cualquier función real $f$ para modificar la forma del volumen."
      ]
    },
    {
      "cell_type": "markdown",
      "metadata": {
        "id": "pf1YeDs0s0vu",
        "colab_type": "text"
      },
      "source": [
        "Por ejemplo, para el campo bivectorial en $\\mathbb{R}^3$, $$\\Pi = x_{3}\\frac{\\partial}{\\partial x_1}\\wedge \\frac{\\partial}{\\partial x_2} -x_{2} \\frac{\\partial}{\\partial x_1}\\wedge \\frac{\\partial}{\\partial x_3} + x_{1}\\frac{\\partial}{\\partial x_2}\\wedge \\frac{\\partial}{\\partial x_3},$$ \n",
        "\n",
        "y la función $f(x_{1},x_{2},x_{3}) = \\mathrm{exp}(x_1 + x_2 + x_3)$, calculemos el campo modular de $\\Pi$ con respecto a la forma de volumen $f\\Omega_{0}$:"
      ]
    },
    {
      "cell_type": "code",
      "metadata": {
        "id": "3jTMH4jksdEF",
        "colab_type": "code",
        "colab": {}
      },
      "source": [
        "from poisson.poisson import PoissonGeometry\n",
        "pg3 = PoissonGeometry(3)\n",
        "\n",
        "bivector = {(1,2): 'x3', (1,3): '-x2', (2,3): 'x1'}\n",
        "function = 'exp(x1 + x2 + x3)'\n",
        "pg3.modular_vf(bivector, function)"
      ],
      "execution_count": 0,
      "outputs": []
    },
    {
      "cell_type": "markdown",
      "metadata": {
        "id": "v9BZaHUqTEzr",
        "colab_type": "text"
      },
      "source": [
        "Por lo tanto, el campo modular de $\\Pi$ respecto a la forma de volumen $f\\Omega_{0}$ es dado por\n",
        "    \\begin{equation*}\n",
        "        (x_{3} - x_{2})\\frac{\\partial}{\\partial{x_{1}}} + (x_{1} - x_{3})\\frac{\\partial}{\\partial{x_{2}}} + (x_{2} - x_{1})\\frac{\\partial}{\\partial{x_{3}}}.\n",
        "    \\end{equation*}"
      ]
    },
    {
      "cell_type": "markdown",
      "metadata": {
        "id": "L87dBlusV3Gy",
        "colab_type": "text"
      },
      "source": [
        "### Función: `flashcka_ratiu_bivector`\n",
        "\n",
        "            CALCULA EL CAMPO BIVECTORIAL DE FLASCHKA-RATIU Y LA FORMA SIMPLÉCTICA CORRESPONDIENTE DE UN CONJUNTO 'MÁXIMO' DE FUNCIONES ESCALARES"
      ]
    },
    {
      "cell_type": "markdown",
      "metadata": {
        "id": "Ao6moXAAl2ep",
        "colab_type": "text"
      },
      "source": [
        "Por ejemplo, consideremos las funciones\n",
        "$$f(x_1, x_2, x_3, x_4) = x_4$$\n",
        "y\n",
        "$$g(x_1, x_2, x_3, x_4) = −x_1^2 + x_2^2 + x_3^2$$\n",
        "\n",
        "que describen localmente una singularidad quebrada de una foliación de Lefschetz en una variedad 4-dimensional [6]. \n",
        "\n",
        "Podemos construir un campo bivectorial de Poisson $\\Pi$ de tal manera que las funciones $f$ y $g$ sean Casimires de $\\Pi$:"
      ]
    },
    {
      "cell_type": "code",
      "metadata": {
        "id": "jtXpWOdyogND",
        "colab_type": "code",
        "colab": {}
      },
      "source": [
        "from poisson.poisson import PoissonGeometry\n",
        "pg4 = PoissonGeometry(4)\n",
        "\n",
        "casimirs = ['x4', '-x1**2 + x2**2 + x3**2']\n",
        "pg4.flaschka_ratiu_bivector(casimirs)"
      ],
      "execution_count": 0,
      "outputs": []
    },
    {
      "cell_type": "markdown",
      "metadata": {
        "id": "2XCpu2sg2sx2",
        "colab_type": "text"
      },
      "source": [
        "Para obtener la forma simpléctica de $\\Pi$ en hojas bidimensionales, añadimos la bandera `symplectic_form=True`:  "
      ]
    },
    {
      "cell_type": "code",
      "metadata": {
        "id": "sUr9qXHW27Uk",
        "colab_type": "code",
        "colab": {}
      },
      "source": [
        "bivector, symplectic_form = pg4.flaschka_ratiu_bivector(casimirs, symplectic_form=True)\n",
        "print(f'Poisson bivector field: {bivector}')\n",
        "print(f'Symplectic form: {symplectic_form}')"
      ],
      "execution_count": 0,
      "outputs": []
    },
    {
      "cell_type": "markdown",
      "metadata": {
        "id": "Whx3g1UAWERN",
        "colab_type": "text"
      },
      "source": [
        "###Función: `linear_normal_form_R3`\n",
        "\n",
        "            CALCULA UNA FORMA NORMAL DE CUALQUIER CAMPO BIVECTORIAL DE LIE-POISSON EN R^3"
      ]
    },
    {
      "cell_type": "markdown",
      "metadata": {
        "id": "ruyTPUGFWX2W",
        "colab_type": "text"
      },
      "source": [
        "Por ejemplo, considere el campo bivectorial de Lie-Poisson en $\\mathbb{R}^{3}$,\n",
        "$$\\Pi = -10x_{3}\\frac{\\partial}{\\partial x_1}\\wedge \\frac{\\partial}{\\partial x_2} +10x_{2} \\frac{\\partial}{\\partial x_1}\\wedge \\frac{\\partial}{\\partial x_3} -10x_{1}\\frac{\\partial}{\\partial x_2}\\wedge \\frac{\\partial}{\\partial x_3}$$ \n",
        "\n",
        "Para calcular una forma normal de $\\Pi$, ejecute:"
      ]
    },
    {
      "cell_type": "code",
      "metadata": {
        "id": "LnFwQwZqVP9C",
        "colab_type": "code",
        "colab": {}
      },
      "source": [
        "from poisson.poisson import PoissonGeometry\n",
        "pg3 = PoissonGeometry(3)\n",
        "\n",
        "bivector = {(1,2): '-10*x3', (1,3): '10*x2', (2,3): '-10*x1'}\n",
        "pg3.linear_normal_form_R3(bivector)"
      ],
      "execution_count": 0,
      "outputs": []
    },
    {
      "cell_type": "markdown",
      "metadata": {
        "id": "KeprBLD4YoYe",
        "colab_type": "text"
      },
      "source": [
        "Notemos que $\\Pi$ es un múltiplo ($-10$) del campo bivectorial de Lie-Poisson en $\\mathbb{R}^{3}$ inducido por el álgebra de Lie $\\mathfrak{so}(3)$. Por lo tanto, pertenecen a la misma clase de equivalencia."
      ]
    },
    {
      "cell_type": "markdown",
      "metadata": {
        "id": "5r8mmXdscZsz",
        "colab_type": "text"
      },
      "source": [
        "### Función: `one_forms_bracket`\n",
        "\n",
        "            CALCULA EL CORCHETE DE LIE DE DOS 1-FORMAS DIFERENCIALES INDUCIDO POR UN CAMPO BIVECTORIAL DE POISSON"
      ]
    },
    {
      "cell_type": "markdown",
      "metadata": {
        "id": "64h49WyHcgX0",
        "colab_type": "text"
      },
      "source": [
        "Por ejemplo, considere el campo bivectorial de Poisson en $\\mathbb{R}^{4}$\n",
        "$$\\Pi = \\big( x_3^2 + x_4^2 \\big)\\frac{\\partial}{\\partial{x_{1}}} \\wedge \\frac{\\partial}{\\partial{x_{2}}} \n",
        "        + \\big( x_2x_3 - x_1x_4\\big)\\frac{\\partial}{\\partial{x_{1}}} \\wedge \\frac{\\partial}{\\partial{x_{3}}} \n",
        "        - \\big( x_1x_3 + x_2x_4\\big)\\frac{\\partial}{\\partial{x_{1}}} \\wedge \\frac{\\partial}{\\partial{x_{4}}}\n",
        "        + \\big( x_1x_3 + x_2x_4\\big)\\frac{\\partial}{\\partial{x_{2}}} \\wedge \\frac{\\partial}{\\partial{x_{3}}} \n",
        "        + \\big( x_2x_3 - x_1x_4\\big)\\frac{\\partial}{\\partial{x_{2}}} \\wedge \\frac{\\partial}{\\partial{x^{4}}} \n",
        "        + \\big( x_1^2 + x_2^2 \\big)\\frac{\\partial}{\\partial{x_{3}}} \\wedge \\frac{\\partial}{\\partial{x_{4}}},$$\n",
        "\n",
        "y las 1-formas diferenciales\n",
        "$$\\alpha = x_1\\mathrm{d}{x_1} - x_2\\mathrm{d}{x_2} + x_3\\mathrm{d}{x_3} - x_4\\mathrm{d}{x_4} \\quad \\mathrm{y} \\quad \\beta = x_2\\mathrm{d}{x_1} + x_1\\mathrm{d}{x_2} + x_4\\mathrm{d}{x_3} + x_3\\mathrm{d}{x_4}.$$\n",
        "\n",
        "Para calcular el corchete de Lie, inducido por $\\Pi$, de $\\alpha$ y $\\beta$, ejecute: "
      ]
    },
    {
      "cell_type": "code",
      "metadata": {
        "id": "bkV0cP7TeK9J",
        "colab_type": "code",
        "colab": {}
      },
      "source": [
        "from poisson.poisson import PoissonGeometry\n",
        "pg4 = PoissonGeometry(4)\n",
        "\n",
        "bivector ={(1,2): 'x3**2 + x4**2', (1,3): 'x2*x3 - x1*x4', (1,4): '-x1*x3 - x2*x4', (2,3): 'x1*x3 + x2*x4', (2,4): 'x2*x3 - x1*x4', (3,4): 'x1**2 + x2**2'}\n",
        "alpha = {(1,): 'x1', (2,): '-x2', (3,): 'x3', (4,): '-x4'}\n",
        "beta = {(1,): 'x2', (2,): 'x1', (3,): 'x4', (4,): 'x3'}\n",
        "pg4.one_forms_bracket(bivector, alpha, beta)"
      ],
      "execution_count": 0,
      "outputs": []
    },
    {
      "cell_type": "markdown",
      "metadata": {
        "id": "XBtu7KFMUMfR",
        "colab_type": "text"
      },
      "source": [
        "So $\\{\\alpha, \\beta\\}_{\\Pi} = 0$."
      ]
    },
    {
      "cell_type": "markdown",
      "metadata": {
        "id": "-EPY7R48fzZ6",
        "colab_type": "text"
      },
      "source": [
        "## **Applicaciones**"
      ]
    },
    {
      "cell_type": "markdown",
      "metadata": {
        "id": "L6951AG4Zp1k",
        "colab_type": "text"
      },
      "source": [
        "### Función: `gauge_transformations`\n",
        "\n",
        "            CALCULA LA TRANSFORMACIÓN GAUGE DE UN CAMPO BIVECTORIAL CON RESPECTO A UNA 2-FORMA DIFERENCIAL"
      ]
    },
    {
      "cell_type": "markdown",
      "metadata": {
        "id": "0oW6b5FJZ1J7",
        "colab_type": "text"
      },
      "source": [
        "Por ejemplo, considere un campo bivectorial arbitrario en $\\mathbb{R}^3$,\n",
        "\n",
        "$$\\Pi=\\Pi_{12} \\frac{\\partial}{\\partial x_{1}} \\wedge \\frac{\\partial}{\\partial x_{2}} + \\Pi_{13} \\frac{\\partial}{\\partial x_{1}} \\wedge \\frac{\\partial}{\\partial x_{3}} + \\Pi_{23} \\frac{\\partial}{\\partial x_{2}} \\wedge \\frac{\\partial}{\\partial x_{3}}$$\n",
        "\n",
        "y una 2-forma diferencial, \n",
        "\n",
        "$$\\lambda = \\lambda_{12} \\mathrm{d}x_{1}\\wedge \\mathrm{d}x_{2} + \\lambda_{13} \\mathrm{d}x_{1}\\wedge \\mathrm{d}x_{3} + \\lambda_{23} \\mathrm{d}x_{2}\\wedge \\mathrm{d}x_{3}$$\n",
        "\n",
        "Para calcular la transformación gauge de $\\Pi$ inducida por $\\lambda$, ejecute:"
      ]
    },
    {
      "cell_type": "code",
      "metadata": {
        "id": "9NAOSQ14c3Xq",
        "colab_type": "code",
        "colab": {}
      },
      "source": [
        "import pprint \n",
        "pp = pprint.PrettyPrinter(indent=2)\n",
        "\n",
        "from poisson.poisson import PoissonGeometry\n",
        "pg3 = PoissonGeometry(3)\n",
        "\n",
        "P = {(1,2):  'P12', (1,3):  'P13', (2,3):  'P23'}\n",
        "L = {(1,2): 'L12', (1,3): 'L13', (2,3): 'L23'}\n",
        "gauge_bivector, determinant = pg3.gauge_transformation(P, L)\n",
        "\n",
        "print('L-gauge transformation of P:')\n",
        "pp.pprint(gauge_bivector)\n",
        "print(f'\\nIt\\'s well-defined on the open subset \\n{{{determinant} != 0}}\\nof R^3')"
      ],
      "execution_count": 0,
      "outputs": []
    },
    {
      "cell_type": "markdown",
      "metadata": {
        "id": "H9TLMHRtX84y",
        "colab_type": "text"
      },
      "source": [
        "* De esta manera obtenemos [5]:"
      ]
    },
    {
      "cell_type": "markdown",
      "metadata": {
        "id": "B_OzGt0TWpi2",
        "colab_type": "text"
      },
      "source": [
        "**Proposición 3.1** Sea $\\Pi$ un campo bivectorial en una variedad 3-dimensional lisa $M$. Entonces, dado una 2-forma diferencial $\\lambda$ en $M$, la transformación $\\lambda$-gauge $\\overline{\\Pi}$ de $\\Pi$ está bien definida en el subconjunto abierto de $M$\n",
        "    \\begin{equation*}\n",
        "        \\{F := \\big\\langle \\lambda,\\Pi \\big\\rangle + 1 \\neq 0 \\} \\subseteq M.\n",
        "    \\end{equation*}\n",
        "Aún más, $\\overline{\\Pi}$ es dado por\n",
        "    \\begin{equation*}\n",
        "        \\overline{\\Pi} = \\tfrac{1}{F}\\Pi.\n",
        "    \\end{equation*}\n",
        "Si $\\Pi$ es un campo bivectorial de Poisson y $\\lambda$ es cerrada a lo largo de las hojas de $\\Pi$, entonces $\\Pi$ es también de Poisson."
      ]
    },
    {
      "cell_type": "markdown",
      "metadata": {
        "id": "mK1DkPOyf5H9",
        "colab_type": "text"
      },
      "source": [
        "### Función: `jacobiator`\n",
        "\n",
        "            CALCULA EL CORCHETE DE SCHOUTEN-NIJENHUIS DE UN CAMPO BIVECTORIAL CONSIGO MISMO\n"
      ]
    },
    {
      "cell_type": "markdown",
      "metadata": {
        "id": "0lfLlVXDgSZz",
        "colab_type": "text"
      },
      "source": [
        "Por ejemplo, podemos modificar el siguiente campo bivectorial $4$-parametrizado en $\\mathbb{R}^{4}$\n",
        "\n",
        "$$ \\Pi=a_1 x_2 \\frac{\\partial}{\\partial x_{1}} \\wedge \\frac{\\partial}{\\partial x_{2}} + a_2 x_3 \\frac{\\partial}{\\partial x_{1}} \\wedge \\frac{\\partial}{\\partial x_{3}} + a_3 x_4 \\frac{\\partial}{\\partial x_{1}} \\wedge \\frac{\\partial}{\\partial x_{4}} + a_4 x_1 \\frac{\\partial}{\\partial x_{2}} \\wedge \\frac{\\partial}{\\partial x_{3}},$$\n",
        "\n",
        "auxiliándonos de la función `jacobiator` para construir una familia de campos bivectoriales de Poisson en $\\mathbb{R}^{4}$:"
      ]
    },
    {
      "cell_type": "code",
      "metadata": {
        "id": "E9mpVwigi7jo",
        "colab_type": "code",
        "colab": {}
      },
      "source": [
        "from poisson.poisson import PoissonGeometry\n",
        "pg4 = PoissonGeometry(4)\n",
        "\n",
        "bivector = {(1,2): 'a1*x2', (1,3): 'a2*x3', (1,4): 'a3*x4', (2,3): 'a4*x1'}\n",
        "pg4.jacobiator(bivector)"
      ],
      "execution_count": 0,
      "outputs": []
    },
    {
      "cell_type": "markdown",
      "metadata": {
        "id": "Eu4koIrjjVpe",
        "colab_type": "text"
      },
      "source": [
        "Por tanto,\n",
        "    \\begin{equation*}\n",
        "        [\\hspace{-0.065cm}[ \\Pi,\\Pi ]\\hspace{-0.065cm}] = -2a_{4}(a_{1}+a_{2})x^1\\,\\frac{\\partial}{\\partial{x^{1}}} \\wedge \\frac{\\partial}{\\partial{x^{2}}} \\wedge \\frac{\\partial}{\\partial{x^{3}}} - 2a_{3}a_{4}x^4\\frac{\\partial}{\\partial{x^{2}}} \\wedge \\frac{\\partial}{\\partial{x^{3}}} \\wedge \\frac{\\partial}{\\partial{x^{4}}}.\n",
        "    \\end{equation*}\n",
        "\n",
        "Por lo tanto, tenemos dos casos, explicados en el siguiente lema [5]."
      ]
    },
    {
      "cell_type": "markdown",
      "metadata": {
        "id": "gMs8yBtCYIfQ",
        "colab_type": "text"
      },
      "source": [
        "**Lema 3.2** Si $a_{4}=0$, entonces $\\Pi$ determina una familia de 3-parámetrizada de campos bivectoriales de Poisson en $\\mathbb{R}^{4}_{x}$:\n",
        "    \\begin{equation}\n",
        "        \\Pi \\,=\\, a_{1}x^2\\,\\frac{\\partial}{\\partial{x^{1}}} \\wedge \\frac{\\partial}{\\partial{x^{2}}}\n",
        "            + a_{2}x^3\\,\\frac{\\partial}{\\partial{x^{1}}} \\wedge \\frac{\\partial}{\\partial{x^{3}}}\n",
        "            + a_{3}x^4\\,\\frac{\\partial}{\\partial{x^{1}}} \\wedge \\frac{\\partial}{\\partial{x^{4}}}.\n",
        "    \\end{equation}\n",
        "    \n",
        "Si $a_{2}=-a_{1}$ y $a_{3}=0$, entonces $\\Pi$ determina una familia de 2-parametrizada de campos bivectoriales de Poisson en $\\mathbb{R}^{4}_{x}$:\n",
        "\\begin{equation}\n",
        "        \\Pi \\,=\\, a_{1}x^2\\,\\frac{\\partial}{\\partial{x^{1}}} \\wedge \\frac{\\partial}{\\partial{x^{2}}} - a_{1}x^3\\,\\frac{\\partial}{\\partial{x^{1}}} \\wedge \\frac{\\partial}{\\partial{x^{3}}} + a_{4}x^1\\,\\frac{\\partial}{\\partial{x^{2}}} \\wedge \\frac{\\partial}{\\partial{x^{3}}}.\n",
        "    \\end{equation}"
      ]
    },
    {
      "cell_type": "markdown",
      "metadata": {
        "id": "XxxguqtJnXeO",
        "colab_type": "text"
      },
      "source": [
        "## **Funciones 'Test-Type'**"
      ]
    },
    {
      "cell_type": "markdown",
      "metadata": {
        "id": "cAB7WAOznbh_",
        "colab_type": "text"
      },
      "source": [
        "Permítanos verificar si un objeto geométrico dado en una variedad de Poisson satisface ciertas propiedades."
      ]
    },
    {
      "cell_type": "markdown",
      "metadata": {
        "id": "gkg4431Vnq7k",
        "colab_type": "text"
      },
      "source": [
        "### Función: `is_homogeneous_unimodular`\n",
        "\n",
        "            VERIFICA SI UN CAMPO BIVECTORIAL DE POISSON HOMOGÉNEO EN R^m ES UNIMODULAR, O NO"
      ]
    },
    {
      "cell_type": "markdown",
      "metadata": {
        "id": "Bs9BsJMlnz8_",
        "colab_type": "text"
      },
      "source": [
        "Por ejemplo, considere el campo bivectorial en $\\mathbb{R}^{4}$\n",
        "$$\\Pi = 2x_{4}\\frac{\\partial}{\\partial x_1}\\wedge \\frac{\\partial}{\\partial x_3} + 2x_{3} \\frac{\\partial}{\\partial x_1}\\wedge \\frac{\\partial}{\\partial x_4} - 2x_{4} \\frac{\\partial}{\\partial x_2}\\wedge \\frac{\\partial}{\\partial x_3} + 2x_{3} \\frac{\\partial}{\\partial x_2}\\wedge \\frac{\\partial}{\\partial x_4} + (x_{1}-x_{2}) \\frac{\\partial}{\\partial x_3}\\wedge \\frac{\\partial}{\\partial x_4}.$$ \n",
        "\n",
        "Este campo bivectorial de Poisson surge en el análisis de la estabilidad orbital del oscilador de Pais-Uhlenbeck en $\\mathbb{R}^{4}$ [2]. Como vimos anteriormente, $\\Pi$ tiene campo modular trivial relativo a la forma de volumen euclídea en $\\mathbb{R}^{4}$, por tanto, es un campo bivectorial de Poisson unimodular en $\\mathbb{R}^{4}$. Podemos verificar esto con:"
      ]
    },
    {
      "cell_type": "code",
      "metadata": {
        "id": "ARz0fiS4n-bO",
        "colab_type": "code",
        "colab": {}
      },
      "source": [
        "from poisson.poisson import PoissonGeometry\n",
        "pg4 = PoissonGeometry(4)\n",
        "\n",
        "P ={(1,3): '-2*x4', (1,4): '2*x3', (2,3): '-2*x4', (2,4): '2*x3', (3,4): 'x1 + x2'}\n",
        "pg4.is_homogeneous_unimodular(P)"
      ],
      "execution_count": 0,
      "outputs": []
    },
    {
      "cell_type": "markdown",
      "metadata": {
        "id": "ZKYHT_z8sMqC",
        "colab_type": "text"
      },
      "source": [
        "### Función: `isomorphic_lie_poisson`\n",
        "\n",
        "            VERIFICA SI DOS CAMPOS BIVECTORIALES DE LIE-POISSON EN R^3 SON ISOMORFOS, O NO"
      ]
    },
    {
      "cell_type": "markdown",
      "metadata": {
        "id": "fuvOLrUtsT97",
        "colab_type": "text"
      },
      "source": [
        "Por ejemplo, los campos bivectoriales en $\\mathbb{R}^3$\n",
        "\n",
        "$$\\Pi_{1} = x_{3}\\frac{\\partial}{\\partial x_1}\\wedge \\frac{\\partial}{\\partial x_2} -x_{2} \\frac{\\partial}{\\partial x_1}\\wedge \\frac{\\partial}{\\partial x_3} + x_{1}\\frac{\\partial}{\\partial x_2}\\wedge \\frac{\\partial}{\\partial x_3},$$\n",
        "y \n",
        "$$\\Pi_{2} = -x_{3}\\frac{\\partial}{\\partial x_1}\\wedge \\frac{\\partial}{\\partial x_2} -x_{2} \\frac{\\partial}{\\partial x_1}\\wedge \\frac{\\partial}{\\partial x_3} + x_{1}\\frac{\\partial}{\\partial x_2}\\wedge \\frac{\\partial}{\\partial x_3},$$ \\\\\n",
        "\n",
        "que son inducidos por las álgebras de Lie $\\mathfrak{so}(3)$ y $\\mathfrak{sl}(2)$, respectivamente, NO son isomorfos:"
      ]
    },
    {
      "cell_type": "code",
      "metadata": {
        "id": "mrp2i2Zeous_",
        "colab_type": "code",
        "colab": {}
      },
      "source": [
        "from poisson.poisson import PoissonGeometry\n",
        "pg3 = PoissonGeometry(3)\n",
        "\n",
        "P1 ={(1,2): 'x3', (1,3): '-x2', (2,3): 'x1'}\n",
        "P2 ={(1,2): '-x3', (1,3): '-x2', (2,3): 'x1'}\n",
        "pg3.isomorphic_lie_poisson_R3(P1, P2)"
      ],
      "execution_count": 0,
      "outputs": []
    },
    {
      "cell_type": "markdown",
      "metadata": {
        "id": "XwaVu-Xot5Sp",
        "colab_type": "text"
      },
      "source": [
        "### Función: `is_poisson_bivector`\n",
        "\n",
        "            VERIFICA SI UN CAMPO BIVECTORIAL ES UN CAMPO BIVECTORIAL DE POISSON, O NO"
      ]
    },
    {
      "cell_type": "markdown",
      "metadata": {
        "id": "pV_fs5bVuCtT",
        "colab_type": "text"
      },
      "source": [
        "Por ejemplo, podemos verificar que el campo bivectorial en $\\mathbb{R}^{4}$,\n",
        "\n",
        "$$\\Pi = x_{2}\\frac{\\partial}{\\partial x_1}\\wedge \\frac{\\partial}{\\partial x_2} + x_{3} \\frac{\\partial}{\\partial x_1}\\wedge \\frac{\\partial}{\\partial x_3} + x_{4} \\frac{\\partial}{\\partial x_1}\\wedge \\frac{\\partial}{\\partial x_4} + x_{1} \\frac{\\partial}{\\partial x_2}\\wedge \\frac{\\partial}{\\partial x_3}$$\n",
        "\n",
        "NO es un campo bivectorial de Poisson:"
      ]
    },
    {
      "cell_type": "code",
      "metadata": {
        "id": "NWNnGZF5sMJs",
        "colab_type": "code",
        "colab": {}
      },
      "source": [
        "from poisson.poisson import PoissonGeometry\n",
        "pg4 = PoissonGeometry(4)\n",
        "\n",
        "bivector = {(1,2): 'x2', (1,3): 'x3', (1,4): 'x4', (2,3): 'x1'}\n",
        "pg4.is_poisson_bivector(bivector)"
      ],
      "execution_count": 0,
      "outputs": []
    },
    {
      "cell_type": "markdown",
      "metadata": {
        "id": "VOlgiQ500w2y",
        "colab_type": "text"
      },
      "source": [
        "###Función: `is_in_kernel`\n",
        "\n",
        "            VERIFICA SI UNA 1-FORMA DIFERENCIAL PERTENECE AL KERNEL DE UN CAMPO BIVECTORIAL (DE POISSON)"
      ]
    },
    {
      "cell_type": "markdown",
      "metadata": {
        "id": "h1ZG-m5r5QAm",
        "colab_type": "text"
      },
      "source": [
        "Por ejemplo, para el campo bivectorial cuadrático de Flaschka-Ratiu en $\\mathbb{R}^{4}$ [6]\n",
        "\n",
        "\\begin{align*}\n",
        "\\Pi &= (x_{3}^{2}+x_{4}^{2})\\frac{\\partial}{\\partial x_1}\\wedge \\frac{\\partial}{\\partial x_2} + (x_{2}x_{3} - x_{1}x_{4}) \\frac{\\partial}{\\partial x_1}\\wedge \\frac{\\partial}{\\partial x_3} - (x_{1}x_{3} + x_{2}x_{4}) \\frac{\\partial}{\\partial x_1}\\wedge \\frac{\\partial}{\\partial x_4} + (x_{1}x_{3} + x_{2}x_{4}) \\frac{\\partial}{\\partial x_2}\\wedge \\frac{\\partial}{\\partial x_3} \\\\ &+ (x_{2}x_{3} - x_{1}x_{4}) \\frac{\\partial}{\\partial x_2}\\wedge \\frac{\\partial}{\\partial x_4} + (x_{1}^{2} + x_{2}^{2}) \\frac{\\partial}{\\partial x_3}\\wedge \\frac{\\partial}{\\partial x_4}\n",
        "\\end{align*}\n",
        "\n",
        "podemos verificar que la 1-forma diferencial $\\alpha = x_{1}\\mathrm{d}x_{1} + x_{2}\\mathrm{d}x_{2} + x_{3}\\mathrm{d}x_{3} + x_{4}\\mathrm{d}x_{4}$ pertenece al kernel de $\\Pi$. En otras palabras, que $\\Pi^{\\#}(\\alpha)=0$:  \n"
      ]
    },
    {
      "cell_type": "code",
      "metadata": {
        "id": "f8UULXOvE1y4",
        "colab_type": "code",
        "colab": {}
      },
      "source": [
        "from poisson.poisson import PoissonGeometry\n",
        "pg4 = PoissonGeometry(4)\n",
        "\n",
        "bivector = {(1,2): 'x3**2 + x4**2', (1,3): 'x2*x3 - x1*x4', (1,4): '-x1*x3 - x2*x4', \n",
        "            (2,3): 'x1*x3 + x2*x4', (2,4): 'x2*x3 - x1*x4', (3,4): 'x1**2 + x2**2'}\n",
        "alpha = {(1,): 'x1', (2,): '-x2', (3,): 'x3', (4,): '-x4'}\n",
        "pg4.is_in_kernel(bivector, alpha)"
      ],
      "execution_count": 0,
      "outputs": []
    },
    {
      "cell_type": "markdown",
      "metadata": {
        "id": "SaU4FV__J5Mi",
        "colab_type": "text"
      },
      "source": [
        "### Funciones: `is_casimir` and `is_poisson_vf`\n",
        "\n",
        "                DADO UN CAMPO BIVECTORIAL DE POISSON P, CON ESTAS FUNCIONES PODEMOS VERIFICAR SI UNA FUNCIÓN ESCALAR ES UNA FUNCIÓN DE CASIMIR DE P\n",
        "                O SI UN CAMPO VECTORIAL ES UN CAMPO VECTORIAL DE POISSON PARA P, RESPECTIVAMENTE"
      ]
    },
    {
      "cell_type": "markdown",
      "metadata": {
        "id": "ea6CMNShOXXP",
        "colab_type": "text"
      },
      "source": [
        "Consideremos el campo bivectorial de Lie-Poisson en $\\mathbb{R}^{3}$\n",
        "\n",
        "$$\\Pi = -x_3\\frac{\\partial}{\\partial x_1}\\wedge \\frac{\\partial}{\\partial x_2} - x_2\\frac{\\partial}{\\partial x_1}\\wedge \\frac{\\partial}{\\partial x_3} + x_1 \\frac{\\partial}{\\partial x_2}\\wedge \\frac{\\partial}{\\partial x_3},$$\n",
        "\n",
        "asociado al álgebra de Lie $\\mathfrak{sl}(2)$ y una función de Casimir $K$ de $\\Pi$ dada por\n",
        "\n",
        "$$K = x_{1}^{2} + x_{2}^{2} + x_{3}^{2}$$:\n"
      ]
    },
    {
      "cell_type": "code",
      "metadata": {
        "id": "xIWp4qIlP24c",
        "colab_type": "code",
        "colab": {}
      },
      "source": [
        "from poisson.poisson import PoissonGeometry\n",
        "pg3 = PoissonGeometry(3)\n",
        "\n",
        "bivector = {(1,2): '-x3', (1,3): '-x2', (2,3): 'x1'}\n",
        "K = 'x1**2 + x2**2 - x3**2'\n",
        "pg3.is_casimir(bivector, K)"
      ],
      "execution_count": 0,
      "outputs": []
    },
    {
      "cell_type": "markdown",
      "metadata": {
        "id": "jjlQMY98Rre4",
        "colab_type": "text"
      },
      "source": [
        "Esto verifica que en efecto $K$ es una función de Casimir de $\\Pi$. Ahora, consideremos la función $f:\\mathbb{R}\\to\\mathbb{R}$ definida por\n",
        "$$f(t) := \\left\\{\n",
        "            \\begin{array}{ll}\n",
        "              e^{-\\frac{1}{t^2}} & \\hbox{if} \\quad t>0, \\\\\n",
        "              0 & \\hbox{en otro caso.}\n",
        "            \\end{array}\n",
        "          \\right.$$\n",
        "\n",
        "Definamos una función suave $F$ by $F:=f\\circ K$. Entonces, el campo vectorial\n",
        "$$ W := \\frac{x_1 F}{x_1^2 + x_2^2}\\,\\frac{\\partial}{\\partial{x_1}} \\,+\\, \\frac{x_1 F}{x_2^2 + x_2^2} \\frac{\\partial}{\\partial{x_2}}$$\n",
        "\n",
        "es un campo vectorial de Poisson para $\\Pi$:"
      ]
    },
    {
      "cell_type": "code",
      "metadata": {
        "id": "afmntnHtUcTx",
        "colab_type": "code",
        "colab": {}
      },
      "source": [
        "from poisson.poisson import PoissonGeometry\n",
        "pg3 = PoissonGeometry(3)\n",
        "\n",
        "bivector = {(1,2): '-x3', (1,3): '-x2', (2,3): 'x1'}\n",
        "W = {(1,): 'x1*exp(-1/(x1**2 + x2**2 - x3**2))/(x1**2 + x2**2)', (2,): 'x2*exp(-1/(x1**2 + x2**2 - x3**2))/(x1**2 + x2**2)', (3,): 0}\n",
        "pg3.is_poisson_vf(bivector, W)"
      ],
      "execution_count": 0,
      "outputs": []
    },
    {
      "cell_type": "markdown",
      "metadata": {
        "id": "BxlustD4XEO8",
        "colab_type": "text"
      },
      "source": [
        "Notemos que $W$ **No** es un campo **Hamiltoniano** de $\\Pi$ [8]."
      ]
    },
    {
      "cell_type": "markdown",
      "metadata": {
        "id": "DXJkm28yKHB3",
        "colab_type": "text"
      },
      "source": [
        "### Función: `is_poisson_pair` \n",
        "\n",
        "            VERIFICA SI UN PAR DE CAMPOS BIVECTORIALES DE POISSON FORMAN UN PAR POISSON"
      ]
    },
    {
      "cell_type": "markdown",
      "metadata": {
        "id": "oRONeQX4LAWM",
        "colab_type": "text"
      },
      "source": [
        "Por ejemplo, sean\n",
        "$$ \\Pi = ax_1 x_2\\frac{\\partial}{\\partial x_1}\\wedge \\frac{\\partial}{\\partial x_2} - b x_1 x_3\\frac{\\partial}{\\partial x_1}\\wedge \\frac{\\partial}{\\partial x_3} + b x_2 x_3 \\frac{\\partial}{\\partial x_2}\\wedge \\frac{\\partial}{\\partial x_3}, $$\n",
        "y\n",
        "$$ \\Psi = x_3^{2} \\frac{\\partial}{\\partial x_1}\\wedge \\frac{\\partial}{\\partial x_2}.$$ \n",
        "\n",
        "Entonces:"
      ]
    },
    {
      "cell_type": "code",
      "metadata": {
        "id": "J5-7lFf3MsDa",
        "colab_type": "code",
        "colab": {}
      },
      "source": [
        "from poisson.poisson import PoissonGeometry\n",
        "pg = PoissonGeometry(3)\n",
        "\n",
        "Pi = {(1,2): 'a*x1*x2', (1,3): '-b*x1*x3', (2,3): 'b*x2*x3'}\n",
        "Psi = {(1,2): 'x3**2'}\n",
        "pg3.is_poisson_pair(Pi, Psi)"
      ],
      "execution_count": 0,
      "outputs": []
    },
    {
      "cell_type": "markdown",
      "metadata": {
        "id": "2NMNAK80N2W-",
        "colab_type": "text"
      },
      "source": [
        "Por tanto, $\\Pi$ y $\\Psi$ forman un par de Poisson."
      ]
    },
    {
      "cell_type": "markdown",
      "metadata": {
        "id": "UMFsgVpjxbHc",
        "colab_type": "text"
      },
      "source": [
        "## __Bibliografía__\n",
        "\n"
      ]
    },
    {
      "cell_type": "markdown",
      "metadata": {
        "id": "DzcgdVi1xjqo",
        "colab_type": "text"
      },
      "source": [
        "[1] M. Ammar, G. Kass, M. Masmoudi, N. Poncin, *Strongly R-Matrix Induced Tensors, Koszul Cohomology, and Arbitrary-Dimensional Quadratic Poisson Cohomology*, Pac. J. Math. 245, 1-23 (2010)\n",
        "\n",
        "[2] M. Avendaño-Camacho, J. A. Vallejo and Yu. Vorobiev, *A Perturbation Theory Approach to the Stability of the Pais-Uhlenbeck Oscillator*, J. Math. Phys. 58, (2017)\n",
        "\n",
        "[3] P. G. Breen, C. N. Foley, T. Boekholt, S. P. Zwart, *Newton vs the Machine: Solving the Chaotic Three-Body Problem Using Deep Neural Networks*, arXiv:1910.07291 [astro-ph.GA]\n",
        "\n",
        "[4] J. P. Dufour and N. T. Zung, *Poisson Structures and their Normal Forms*, Progress in Mathematics, 242, Birkh\\\"auser Verlag, Basel, (2005)\n",
        "\n",
        "[5] M. Evangelista-Alvarado, J. C. Ruíz-Pantaleón, P. Suárez-Serrato, *On Computational Poisson Geometry I: Symbolic Foundations*\n",
        "\n",
        "[6] L. C. Garcia-Naranjo,  P.  Suárez-Serrato  and  R.  Vera, *Poisson  Structures  on  Smooth 4-manifolds*, Lett. Math. Phys. 105, 1533-1550 (2015)\n",
        "\n",
        "[7] C. Laurent-Gengoux, A. Pichereau and P. Vanhaecke, *Poisson Structures*,\n",
        "Grundlehren der mathematischen Wissenschaften, 347, Springer-Verlag Berlin Heidelberg, (2013)\n",
        "\n",
        "[8] N. Nakanishi, *On the Structure of Infinitesimal Automorphisms of Linear Poisson Manifolds I*, J. Math. Kyoto Univ. 31, 71-82 (1991)\n"
      ]
    }
  ]
}