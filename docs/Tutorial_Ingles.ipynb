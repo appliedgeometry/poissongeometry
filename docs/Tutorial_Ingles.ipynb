{
  "nbformat": 4,
  "nbformat_minor": 0,
  "metadata": {
    "colab": {
      "name": "Tutorial_Ingles.ipynb",
      "provenance": [],
      "private_outputs": true,
      "collapsed_sections": []
    },
    "kernelspec": {
      "name": "python3",
      "display_name": "Python 3"
    }
  },
  "cells": [
    {
      "cell_type": "markdown",
      "metadata": {
        "id": "H0wjLts7heTu",
        "colab_type": "text"
      },
      "source": [
        "# **`PoissonGeometry`**"
      ]
    },
    {
      "cell_type": "markdown",
      "metadata": {
        "id": "tZWiq2OHhwn8",
        "colab_type": "text"
      },
      "source": [
        "## **Downloading from PyPi**\n",
        "\n",
        "Run the following:"
      ]
    },
    {
      "cell_type": "code",
      "metadata": {
        "id": "Dkj4pbAXhUz7",
        "colab_type": "code",
        "colab": {}
      },
      "source": [
        "!pip install poissongeometry==0.1.2\n",
        "!pip install galgebra==0.4.3"
      ],
      "execution_count": 0,
      "outputs": []
    },
    {
      "cell_type": "markdown",
      "metadata": {
        "id": "GN7BXnrcT1DL",
        "colab_type": "text"
      },
      "source": [
        "To verify that `PoissonGeometry` module it was installed correctly run:  "
      ]
    },
    {
      "cell_type": "code",
      "metadata": {
        "id": "bp_o3P0eT1fo",
        "colab_type": "code",
        "colab": {}
      },
      "source": [
        "def test_poissongeometry():\n",
        "  \"\"\" This method verifies if the module was installed correctly \"\"\"\n",
        "  try:\n",
        "    import poisson\n",
        "    result = 'The module was installed correctly'\n",
        "  except:\n",
        "    result = 'The module was NOT installed correctly'\n",
        "  return result\n",
        "\n",
        "test_poissongeometry()"
      ],
      "execution_count": 0,
      "outputs": []
    },
    {
      "cell_type": "markdown",
      "metadata": {
        "id": "XMzX0PE2UQca",
        "colab_type": "text"
      },
      "source": [
        "**More information**: see [Github](https://github.com/appliedgeometry/poissongeometry) repository or [PyPi](https://pypi.org/project/poissongeometry/) page."
      ]
    },
    {
      "cell_type": "markdown",
      "metadata": {
        "id": "3N56zlayp0Fx",
        "colab_type": "text"
      },
      "source": [
        "## **Preparing the Environment to Work with `PoissonGeometry`**"
      ]
    },
    {
      "cell_type": "markdown",
      "metadata": {
        "id": "saL1uA-cmGtx",
        "colab_type": "text"
      },
      "source": [
        "### Obtaining $\\LaTeX$ format\n",
        "\n",
        "With this code you can print the results of certain functions in `PoissonGeometry` with $\\LaTeX$ typography:"
      ]
    },
    {
      "cell_type": "code",
      "metadata": {
        "id": "jWXPp10XmGEs",
        "colab_type": "code",
        "colab": {}
      },
      "source": [
        "import sympy\n",
        "def custom_latex_printer(exp, **options):\n",
        "    from google.colab.output._publish import javascript\n",
        "    url = \"https://cdnjs.cloudflare.com/ajax/libs/mathjax/2.7.3/latest.js?config=default\"\n",
        "    javascript(url=url)\n",
        "    return sympy.printing.latex(exp, **options)\n",
        "sympy.init_printing(use_latex=\"mathjax\", latex_printer=custom_latex_printer)"
      ],
      "execution_count": 0,
      "outputs": []
    },
    {
      "cell_type": "markdown",
      "metadata": {
        "id": "Ka25VHNeMJX0",
        "colab_type": "text"
      },
      "source": [
        "### $\\LaTeX$ code\n",
        "\n",
        "* To print the result of a function in $\\LaTeX$ code we just need to add the flag `latex_format=True`, whose default value is `False`:\n",
        "\n",
        "        function_name(param_1, ..., param_n, latex_format=True)"
      ]
    },
    {
      "cell_type": "markdown",
      "metadata": {
        "id": "0tPr4gCJFkmC",
        "colab_type": "text"
      },
      "source": [
        "### Syntax"
      ]
    },
    {
      "cell_type": "markdown",
      "metadata": {
        "id": "N2jx6-lyFqNA",
        "colab_type": "text"
      },
      "source": [
        "* A scalar function in `PoissonGeometry` is written using *string literal expressions*.\n",
        "\n",
        "    For example, the function $f:\\mathbb{R}^{3} \\to \\mathbb{R}$ given by \n",
        "    \n",
        "    $$f(x_1,x_2,x_3) = ax_1^2 + bx_2^2 + cx_3^2, \\quad a,b,c \\in \\mathbb{R}$$\n",
        "    \n",
        "    should be written exactly as follows:\n",
        "```\n",
        "\"a*x1**2 + b*x2**2 + c*x3**2\"\n",
        "```\n",
        "Here, `x1, x2, x3` are symbolic variables that `PoissonGeometry` defines by default and that represent in this case the coordinates $(x_1,x_2,x_3)$.\n",
        "\n",
        "    **Remark.** All characters that are not local coordinates are treated as (symbolic) parameters: for example `a`, `b`, `c` above.\n",
        "\n",
        "    **Note.** Python supports the following basic operations:\n",
        "\n",
        "| Expression | Description  || Expression | Description    |\n",
        "| :--------: | ------------ || :--------: | -------------- |\n",
        "| +          | Addition     || *          | Multiplication |\n",
        "| -          | Substraction || **         | Power |\n",
        "| /          | Division     ||\n",
        "\n",
        "* A multivector field or a differential form in `Poisson Geometry` is written using *dictionaries* with *tuples of integers* as **keys** and *string* type **values**. \n",
        "\n",
        "    For example, in $\\mathbb{R}^{3}$: \n",
        "    * The vector field $x_1\\frac{\\partial}{\\partial x_1} + x_2\\frac{\\partial}{\\partial x_2} + x_3 \\frac{\\partial}{\\partial x_3}$ should be written as \\\\\n",
        "```{(1,):'x1', (2,):'x2', (3,):'x3'}```\n",
        "        \n",
        "        **Note:** Commas on keys are important!\n",
        "\n",
        "    * The bivector field $x_1\\frac{\\partial}{\\partial x_1}\\wedge \\frac{\\partial}{\\partial x_2} - x_2\\frac{\\partial}{\\partial x_1}\\wedge \\frac{\\partial}{\\partial x_3} + x_3 \\frac{\\partial}{\\partial x_2}\\wedge \\frac{\\partial}{\\partial x_3}$ should be written as \\\\\n",
        "```{(1,2):'x1', (1,3):'-x2', (2,3):'x3'}```\n",
        "\n",
        "    * The 3-multivector field $x_1\\frac{\\partial}{\\partial x_1}\\wedge \\frac{\\partial}{\\partial x_2}\\wedge \\frac{\\partial}{\\partial x_3}$ should be written as \\\\\n",
        "```{(1,2,3):'x1'}```\n",
        "\n",
        "**Remarks:**\n",
        "1. In `Python`, a variable \\\\\n",
        "```{key_1: value_1, ..., key_n: value_n}``` \\\\\n",
        "it is called 'dictionary'. Each `key_1,...,key_n` is called a *key* of the dictionary and each `value_1,...,value_n` is called the *value* of the corresponding key.\n",
        "\n",
        "2. In our case, each key is a `tuple` and each value a `string` type variable. \n",
        "\n",
        "    When we have a multivector $A$ of degree $a$ on $\\mathbb{R}^{m}$ $$A = \\sum_{1 \\leq i_1 < i_2 < \\cdots < i_a \\leq m} A^{i_1 i_2 \\cdots i_a}\\,\\frac{\\partial}{\\partial{x_{i_1}}} \\wedge \\frac{\\partial}{\\partial{x_{i_2}}} \\wedge \\cdots \\wedge \\frac{\\partial}{\\partial{x_{i_a}}},$$ \\\\\n",
        "\n",
        "    the keys of the dictionary are tuples $(i_1,i_2,\\ldots,i_a)$ corresponding to the ordered indices $i_1 i_2 \\cdots i_a$ of $A^{i_1 i_2 \\cdots i_a}$ and the values the corresponding string expression of the coefficient (scalar function) $A^{i_1 i_2 \\cdots i_a}$.\n",
        "\n",
        "    **Note.** We can only write the keys and values of *non-zero coefficients*.\n",
        "\n",
        "3. We can change the order of the indeces in each `tuple` adding the minus sign in the corresponding `string` value. \n",
        "\n",
        "    For example,\n",
        "    \n",
        "    * The bivector field $x_1\\frac{\\partial}{\\partial x_1}\\wedge \\frac{\\partial}{\\partial x_2}$ can be written as \\\\\n",
        "    ```{(1,2): 'x1'}```\n",
        "    \n",
        "        or as\n",
        "\n",
        "        ```{(2,1): '-x1'}```\n",
        "\n",
        "     where this last dictionary corresponds to the bivector field $-x_1\\frac{\\partial}{\\partial x_2}\\wedge \\frac{\\partial}{\\partial x_1}$.\n",
        "\n",
        "     **Note.** Although we have the option of disregarding the index order, we recommend not doing so, to avoid possible computation errors.\n",
        "\n",
        "4. The syntax for differential forms is the same as for multivectors. \n",
        "\n",
        "    For example, the differential 2-form on $\\mathbb{R}^4$ $$-\\mathrm{d}x_{1} \\wedge \\mathrm{d}x_{2} - (x_1 + x_4)\\mathrm{d}x_{3} \\wedge \\mathrm{d}x_{4}$$ is written as \\\\\n",
        "```{(1,2):'-1', (3,4): '-(x1 + x4)'}```\n",
        "\n",
        "5. Finally, in `PoissonGeometry` we use the following notation:\n",
        "    *   `Dxi` is equivalent to  $\\frac{\\partial}{\\partial x_{i}}$. \n",
        "    *   `dxi` is equivalent to  $\\mathrm{d}x_{i}$.\n",
        "\n",
        " This assignment is given because in `SymPy` it's not possible to define variables $\\frac{\\partial}{\\partial x_{i}}$ or $\\mathrm{d}x_{i}$."
      ]
    },
    {
      "cell_type": "markdown",
      "metadata": {
        "id": "j7vZLP4iOdf_",
        "colab_type": "text"
      },
      "source": [
        "## **Testing the `PoissonGeometry` Class**"
      ]
    },
    {
      "cell_type": "markdown",
      "metadata": {
        "id": "s8JOrz0sQxfq",
        "colab_type": "text"
      },
      "source": [
        "### Instantiating and knowing the Class "
      ]
    },
    {
      "cell_type": "markdown",
      "metadata": {
        "id": "iAFs1yNpOvBs",
        "colab_type": "text"
      },
      "source": [
        "First, it is necessary to instantiate the class. For this, we must tell to `PoissonGeometry` the dimension and the symbolic variable that names the coordinates.\n",
        "\n",
        "For example, if we want to work in dimension 4 and use $z$ to name the coordinates:"
      ]
    },
    {
      "cell_type": "code",
      "metadata": {
        "id": "qJOBzQH09x6X",
        "colab_type": "code",
        "colab": {}
      },
      "source": [
        "# We import the class and give it a short name for simplicity.\n",
        "from poisson.poisson import PoissonGeometry as pg\n",
        "\n",
        "# We declare the variables and the dimension\n",
        "pg4 = pg(4, variable=\"z\")"
      ],
      "execution_count": 0,
      "outputs": []
    },
    {
      "cell_type": "markdown",
      "metadata": {
        "id": "Qkd46_00S1fe",
        "colab_type": "text"
      },
      "source": [
        "**Remark:** By default, `variable`=`\"x\"`."
      ]
    },
    {
      "cell_type": "markdown",
      "metadata": {
        "id": "Adts-lW9Qa93",
        "colab_type": "text"
      },
      "source": [
        "To know the dimension in which we are working write:\n",
        "\n",
        "\n",
        "\n"
      ]
    },
    {
      "cell_type": "code",
      "metadata": {
        "id": "xkc5gi5YQtqy",
        "colab_type": "code",
        "colab": {}
      },
      "source": [
        "pg4.dim"
      ],
      "execution_count": 0,
      "outputs": []
    },
    {
      "cell_type": "markdown",
      "metadata": {
        "id": "Vjo2abh-RWYj",
        "colab_type": "text"
      },
      "source": [
        "To know the (current) coordinates write:"
      ]
    },
    {
      "cell_type": "code",
      "metadata": {
        "id": "9yX4IWOIReHy",
        "colab_type": "code",
        "colab": {}
      },
      "source": [
        "pg4.coordinates"
      ],
      "execution_count": 0,
      "outputs": []
    },
    {
      "cell_type": "markdown",
      "metadata": {
        "id": "bbktbS-RRiSc",
        "colab_type": "text"
      },
      "source": [
        "In addition, `PoissonGeometry` builds a basis $\\left\\{\\frac{\\partial}{\\partial x_{1}},...,\\frac{\\partial}{\\partial x_{n}}\\right\\}$ of vector fields. In our running example, for $n=4$."
      ]
    },
    {
      "cell_type": "code",
      "metadata": {
        "id": "XCaI1N12R4Ta",
        "colab_type": "code",
        "colab": {}
      },
      "source": [
        "pg4.Dx_basis "
      ],
      "execution_count": 0,
      "outputs": []
    },
    {
      "cell_type": "markdown",
      "metadata": {
        "id": "oGlWrr5ESD2U",
        "colab_type": "text"
      },
      "source": [
        "Moreover, it's possible to operate on this basis. For example, to compute wedge products:"
      ]
    },
    {
      "cell_type": "code",
      "metadata": {
        "id": "KatLPBRkSK8e",
        "colab_type": "code",
        "colab": {}
      },
      "source": [
        "Dz1, Dz2, Dz3, Dz4 = pg4.Dx_basis\n",
        "print(F'Wedge product of Dz1 with Dz2: {Dz1 ^ Dz2}') # The wedge product in Galgebra is denoted with the symbol ^\n",
        "print(F'Wedge product of Dz1 with Dz2: {Dz1 ^ Dz1}')"
      ],
      "execution_count": 0,
      "outputs": []
    },
    {
      "cell_type": "markdown",
      "metadata": {
        "id": "Uhy-Fw6sTmzJ",
        "colab_type": "text"
      },
      "source": [
        "The following operations can be carried out in `Galgebra`:\n",
        "\n",
        "| Expression | Description | Expression  | Description |\n",
        "| :----------: | ----------  | :----------: | ----------  |\n",
        "| *          | Multiplication | ^         | Wdege Product |\n",
        "| +          | Addition        | - | Substraction |"
      ]
    },
    {
      "cell_type": "markdown",
      "metadata": {
        "id": "_L8DKsEoU1Ae",
        "colab_type": "text"
      },
      "source": [
        "## **Functions of `PoissonGeometry`**"
      ]
    },
    {
      "cell_type": "markdown",
      "metadata": {
        "id": "YUciNrw3VWA6",
        "colab_type": "text"
      },
      "source": [
        "###Function: `bivector_to_matrix`\n",
        "\n",
        "            COMPUTES THE MATRIX OF A BIVECTOR FIELD\n",
        "\n"
      ]
    },
    {
      "cell_type": "markdown",
      "metadata": {
        "id": "9iovnol2pfpA",
        "colab_type": "text"
      },
      "source": [
        "For example, the matrix of the bivector field on $\\mathbb{R}^4$\n",
        "\n",
        "$$\\Pi = x_3\\frac{\\partial}{\\partial x_1}\\wedge \\frac{\\partial}{\\partial x_2} - x_2\\frac{\\partial}{\\partial x_1}\\wedge \\frac{\\partial}{\\partial x_3} + x_1 \\frac{\\partial}{\\partial x_2}\\wedge \\frac{\\partial}{\\partial x_3},$$ \n",
        "\n",
        "can be computed as follows:"
      ]
    },
    {
      "cell_type": "code",
      "metadata": {
        "id": "iJwfSpqffzTf",
        "colab_type": "code",
        "colab": {}
      },
      "source": [
        "from poisson.poisson import PoissonGeometry\n",
        "pg4 = PoissonGeometry(4)\n",
        "\n",
        "# We entered the bivector field\n",
        "bivector = {(1,2): 'x3', (1,3): '-x2', (2,3): 'x1'}\n",
        "\n",
        "pg4.bivector_to_matrix(bivector)"
      ],
      "execution_count": 0,
      "outputs": []
    },
    {
      "cell_type": "markdown",
      "metadata": {
        "id": "pIDMJOQIXUaZ",
        "colab_type": "text"
      },
      "source": [
        "**Remember.** If we want the $\\LaTeX$ code of the previous matrix we just need to add the flag `latex_format=True`, whose default value is `False`:"
      ]
    },
    {
      "cell_type": "code",
      "metadata": {
        "id": "vLbRu_yEXuLy",
        "colab_type": "code",
        "colab": {}
      },
      "source": [
        "print(pg4.bivector_to_matrix(bivector, latex_format=True))"
      ],
      "execution_count": 0,
      "outputs": []
    },
    {
      "cell_type": "markdown",
      "metadata": {
        "id": "0qo2VEonRmG0",
        "colab_type": "text"
      },
      "source": [
        "* The 'power' of the `latex_format`: you can just copy and paste the result into a `.tex` file"
      ]
    },
    {
      "cell_type": "markdown",
      "metadata": {
        "id": "ELtIu9osYiJg",
        "colab_type": "text"
      },
      "source": [
        "###Function: `sharp_morphism`\n",
        "\n",
        "            COMPUTES THE IMAGE OF A DIFFERENTIAL 1-FORM UNDER THE VECTOR BUNDLE MORPHISM 'SHARP' INDUCED BY A BIVECTOR FIELD"
      ]
    },
    {
      "cell_type": "markdown",
      "metadata": {
        "id": "Bo3RZOvHYz7l",
        "colab_type": "text"
      },
      "source": [
        "For example, consider the Lie-Poisson bivector field on\n",
        " $\\mathbb{R}^{3}$\n",
        "\n",
        "$$\\Pi = x_3\\frac{\\partial}{\\partial x_1}\\wedge \\frac{\\partial}{\\partial x_2} - x_2\\frac{\\partial}{\\partial x_1}\\wedge \\frac{\\partial}{\\partial x_3} + x_1 \\frac{\\partial}{\\partial x_2}\\wedge \\frac{\\partial}{\\partial x_3},$$\n",
        " \n",
        "associated to the Lie algebra $\\mathfrak{so}(3)$ [4], and the differential 1-form\n",
        "\n",
        "$$\\alpha = x_1 \\mathrm{d}x_{1} + x_{2} \\mathrm{d}x_{2} + x_{3} \\mathrm{d}x_{3}.$$\n",
        "\n",
        "To compute *$\\Pi^{\\natural}(\\alpha)$*, run:"
      ]
    },
    {
      "cell_type": "code",
      "metadata": {
        "id": "ktUxb1WIaXel",
        "colab_type": "code",
        "colab": {}
      },
      "source": [
        "from poisson.poisson import PoissonGeometry\n",
        "pg3 = PoissonGeometry(3)\n",
        "\n",
        "# We entered the bivector field and the 1-form.\n",
        "bivector = {(1,2): 'x3', (1,3): '-x2', (2,3): 'x1'}\n",
        "alpha = {(1,): 'x1', (2,): 'x2', (3,): 'x3'}\n",
        "\n",
        "pg3.sharp_morphism(bivector, alpha)"
      ],
      "execution_count": 0,
      "outputs": []
    },
    {
      "cell_type": "markdown",
      "metadata": {
        "id": "cSCg9v6dazZh",
        "colab_type": "text"
      },
      "source": [
        "Therefore, $\\Pi^{\\natural}(\\alpha)=0$."
      ]
    },
    {
      "cell_type": "markdown",
      "metadata": {
        "id": "IbRU3kMvbiD7",
        "colab_type": "text"
      },
      "source": [
        "###Function: `hamiltonian_vf`\n",
        "\n",
        "            COMPUTES THE HAMILTONIAN VECTOR FIELD OF A SCALAR FUNCTION RESPECT TO A POISSON BIVECTOR FIELD"
      ]
    },
    {
      "cell_type": "markdown",
      "metadata": {
        "id": "125DR5msb6Rb",
        "colab_type": "text"
      },
      "source": [
        "For example, consider the Poisson bivector field on $\\mathbb{R}^{6}$,\n",
        "$$\\Pi = \\frac{\\partial}{\\partial x_1}\\wedge \\frac{\\partial}{\\partial x_4} + \\frac{\\partial}{\\partial x_2}\\wedge \\frac{\\partial}{\\partial x_5} + \\frac{\\partial}{\\partial x_3}\\wedge \\frac{\\partial}{\\partial x_6},$$ and the function\n",
        "$$h = -\\frac{1}{x_{2}-x_{1}}-\\frac{1}{x_{3}-x_{1}}-\\frac{1}{x_{3}-x_{2}} +\\frac{1}{2} (x_{4}^{2} + x_{5}^{2} + x_{6}^{2}).$$\n",
        "\n",
        "The Hamiltonian vector field of $h$ respect to $\\Pi$ is given by\n",
        "\\begin{align}\n",
        "    X_{h} &= - x_4\\frac{\\partial}{\\partial{x_1}}- x_5\\frac{\\partial}{\\partial{x_2}} - x_6\\frac{\\partial}{\\partial{x_3}} + \\left[ \\frac{1}{(x_1-x_3)|x_1-x_3|} + \\frac{1}{(x_1-x_2)|x_1-x_2|} \\right]\\frac{\\partial}{\\partial{x_4}} \\\\\n",
        "    &+ \\left[ \\frac{1}{(x_2-x_3)|x_2-x_3|} + \\frac{1}{(x_1-x_2)|x_1-x_2|} \\right]\\frac{\\partial}{\\partial{x_5}} -\\left[ \\frac{1}{(x_2-x_3)|x_2-x_3|} + \\frac{1}{(x_1-x_3)|x_1-x_3|} \\right]\\frac{\\partial}{\\partial{x_6}}.\n",
        "\\end{align}\n",
        "\n",
        "This vector field is the associated to the Hamiltonian system of a particular case of the three bodies problem [3]. \n",
        "To compute this vector field with `Poisson Geometry` run:"
      ]
    },
    {
      "cell_type": "code",
      "metadata": {
        "id": "b_lWjl3Ve7hs",
        "colab_type": "code",
        "colab": {}
      },
      "source": [
        "# This module is for Python readable printing\n",
        "import pprint \n",
        "pp = pprint.PrettyPrinter(indent=2)\n",
        "\n",
        "# Instantiated the Poisson Geometry class\n",
        "from poisson.poisson import PoissonGeometry \n",
        "pg6 = PoissonGeometry(6)\n",
        "\n",
        "bivector = {(1,4):  '1', (2,5):  '1', (3,6):  '1'}\n",
        "h = '- 1/sqrt((x2 - x1)**2) - 1/sqrt((x3 - x1)**2) - 1/sqrt((x3 - x2)**2)+ 1/2*(x4**2 + x5**2 + x6**2)'\n",
        "\n",
        "pp.pprint(pg6.hamiltonian_vf(bivector, h))"
      ],
      "execution_count": 0,
      "outputs": []
    },
    {
      "cell_type": "markdown",
      "metadata": {
        "id": "ovD9guIJhvYV",
        "colab_type": "text"
      },
      "source": [
        "We must remember that we declared `Dxi` $\\equiv \\frac{\\partial}{\\partial x_{i}}$."
      ]
    },
    {
      "cell_type": "markdown",
      "metadata": {
        "id": "1W1swc2xlHFU",
        "colab_type": "text"
      },
      "source": [
        "### Function: `lichnerowicz_poisson_operator`\n",
        "\n",
        "            COMPUTES THE IMAGE OF A MULTIVECTOR FIELD UNDER THE COBOUNDARY OPERATOR INDUCED BY A POISSON BIVECTOR FIELD\n",
        "            RELATIVE TO THE SCHOUTEN-NIJENHUIS BRACKET FOR MULTIVECTOR FIELDS"
      ]
    },
    {
      "cell_type": "markdown",
      "metadata": {
        "id": "TDuJrU1blgsA",
        "colab_type": "text"
      },
      "source": [
        "Consider the bivector field on $\\mathbb{R}^{3}$\n",
        "$$\\Pi = x_{1}\\frac{\\partial}{\\partial x_1}\\wedge \\frac{\\partial}{\\partial x_2} - ax_{1}x_{3} \\frac{\\partial}{\\partial x_1}\\wedge \\frac{\\partial}{\\partial x_3} + x_3(2x_{1} - ax_{2}) \\frac{\\partial}{\\partial x_2}\\wedge \\frac{\\partial}{\\partial x_3},$$ and the 3-multivector field $$A = (bx_{2}^{2}x_{3} + c)\\frac{\\partial}{\\partial x_1}\\wedge \\frac{\\partial}{\\partial x_2}\\wedge \\frac{\\partial}{\\partial x_3}.$$\n",
        "\n",
        "Computing the Schouten-Nijenhuis bracket of two multivector fields is a complicated affair. The `PoissonGeometry` class can do this computation very quickly!:"
      ]
    },
    {
      "cell_type": "code",
      "metadata": {
        "id": "8s3t4GMkmqH-",
        "colab_type": "code",
        "colab": {}
      },
      "source": [
        "from poisson.poisson import PoissonGeometry\n",
        "pg3 = PoissonGeometry(3)\n",
        "\n",
        "P = {(1,2): 'x1**2', (1,3): '-a*x1*x3', (2,3): 'x3*(2*x1 - a*x2)'}\n",
        "A = {(1,2,3): 'b*x2**2*x3 + c'}\n",
        "pg3.lichnerowicz_poisson_operator(P, A)"
      ],
      "execution_count": 0,
      "outputs": []
    },
    {
      "cell_type": "markdown",
      "metadata": {
        "id": "hfucn9oznoNC",
        "colab_type": "text"
      },
      "source": [
        "Therefore, $A$ is a cocycle of $\\Pi$. The formal cohomology group of degree 3 of the Lichnerowicz-Poisson complex of $\\Pi$ is given by (see [1]):\n",
        "\n",
        "$$\\mathscr{H}^{3}(\\Pi) \\simeq\\ \\mathbb{R} \\cdot \\frac{\\partial}{\\partial{x_{1}}} \\wedge \\frac{\\partial}{\\partial{x_{2}}} \\wedge \\frac{\\partial}{\\partial{x_{3}}} \\bigoplus \\mathbb{R} \\cdot x_{2}^2x_{3}\\,\\frac{\\partial}{\\partial{x_{1}}} \\wedge \\frac{\\partial}{\\partial{x_{2}}} \\wedge \\frac{\\partial}{\\partial{x_{3}}}.$$"
      ]
    },
    {
      "cell_type": "markdown",
      "metadata": {
        "id": "gq3BTHfTB88f",
        "colab_type": "text"
      },
      "source": [
        "### Function: `curl_operator`"
      ]
    },
    {
      "cell_type": "markdown",
      "metadata": {
        "id": "1DdoN8KsCBoZ",
        "colab_type": "text"
      },
      "source": [
        "Consider the following Poisson bivector field (Flaskcha-Ratiu) on $\\mathbb{R}^6$,\n",
        "\n",
        "$$\\Pi = x_{1}x_{2}\\frac{\\partial}{\\partial x_1}\\wedge \\frac{\\partial}{\\partial x_2} - x_{1}x_{3} \\frac{\\partial}{\\partial x_1}\\wedge \\frac{\\partial}{\\partial x_3} + x_2 x_3 \\frac{\\partial}{\\partial x_2}\\wedge \\frac{\\partial}{\\partial x_3} + \\frac{\\partial}{\\partial x_3}\\wedge \\frac{\\partial}{\\partial x_4} - \\frac{\\partial}{\\partial x_3}\\wedge \\frac{\\partial}{\\partial x_5} + \\frac{\\partial}{\\partial x_4}\\wedge \\frac{\\partial}{\\partial x_6}.$$\n",
        "\n",
        "With `curl_operator` we can calculate the divergence of $\\Pi$ respect to the volume form $f\\Omega_{0}$ on $\\mathbb{R}^6$, where $\\Omega_{0}$ is te euclidean volume form and $f$ is a nonwhere vanishing function:"
      ]
    },
    {
      "cell_type": "code",
      "metadata": {
        "id": "DUP0cRanFIYG",
        "colab_type": "code",
        "colab": {}
      },
      "source": [
        "from poisson.poisson import PoissonGeometry\n",
        "pg6 = PoissonGeometry(6)\n",
        "\n",
        "bivector = {(1,2): 'x1*x2', (1,3): '-x1*x3', (2,3): 'x2*x3', (3,4): '1', (3,5): '-1', (4,6): '1'}\n",
        "pg6.curl_operator(bivector, 1)"
      ],
      "execution_count": 0,
      "outputs": []
    },
    {
      "cell_type": "markdown",
      "metadata": {
        "id": "ZThVR40mFlDE",
        "colab_type": "text"
      },
      "source": [
        "So the divergence of $\\Pi$ is trivial. \n",
        "\n",
        "__Remark.__ The parameter `1` in `curl_operator` means that $f \\equiv 1$, therefore the divergence is respect to the euclidean volume $\\Omega_{0}$ on $\\mathbb{R}^6$."
      ]
    },
    {
      "cell_type": "markdown",
      "metadata": {
        "id": "yeE2TTFnp7p1",
        "colab_type": "text"
      },
      "source": [
        "### Function: `poisson_bracket`\n",
        "\n",
        "            COMPUTES THE POISSON BRACKET, INDUCED BY A POISSON BIVECTOR FIELD, OF TWO SCALAR FUNCTIONS"
      ]
    },
    {
      "cell_type": "markdown",
      "metadata": {
        "id": "oW1QDUkVqFid",
        "colab_type": "text"
      },
      "source": [
        "For example, consider the Lie-Poisson bivector field on $\\mathbb{R}^{3}$,\n",
        "\n",
        "$$\\Pi = x_3\\frac{\\partial}{\\partial x_1}\\wedge \\frac{\\partial}{\\partial x_2} - x_2\\frac{\\partial}{\\partial x_1}\\wedge \\frac{\\partial}{\\partial x_3} + x_1 \\frac{\\partial}{\\partial x_2}\\wedge \\frac{\\partial}{\\partial x_3},$$\n",
        "\n",
        "associated to the Lie algebra $\\mathfrak{sl}(2)$ [7]. It is well known that $\\{x_{1},x_{2}\\}_{\\Pi} = -x_{3}$, $\\{x_{2},x_{3}\\}_{\\Pi} = x_{1}$ y $\\{x_{3},x_{1}\\}_{\\Pi} = x_{2}$ are the commutation relations of this Lie algebra:"
      ]
    },
    {
      "cell_type": "code",
      "metadata": {
        "id": "lTFRBvggr7bl",
        "colab_type": "code",
        "colab": {}
      },
      "source": [
        "from poisson.poisson import PoissonGeometry\n",
        "pg3 = PoissonGeometry(3)\n",
        "\n",
        "bivector ={(1,2): '-x3', (1,3): '-x2', (2,3): 'x1'}\n",
        "x1_x2 = pg3.poisson_bracket(bivector, 'x1', 'x2')\n",
        "x2_x3 = pg3.poisson_bracket(bivector, 'x2', 'x3')\n",
        "x3_x1 = pg3.poisson_bracket(bivector, 'x3', 'x1')\n",
        "\n",
        "print(F'{{x1, x2}} = {x1_x2}')\n",
        "print(F'{{x2, x3}} = {x2_x3}')\n",
        "print(F'{{x3, x1}} = {x3_x1}')"
      ],
      "execution_count": 0,
      "outputs": []
    },
    {
      "cell_type": "markdown",
      "metadata": {
        "id": "j---ZPvdUa5s",
        "colab_type": "text"
      },
      "source": [
        "###Function: `modular_vf`"
      ]
    },
    {
      "cell_type": "markdown",
      "metadata": {
        "id": "6LlVAkWHibiy",
        "colab_type": "text"
      },
      "source": [
        "Consider the bivector field on $\\mathbb{R}^{4}$,\n",
        "$$\\Pi = 2x_{4}\\frac{\\partial}{\\partial x_1}\\wedge \\frac{\\partial}{\\partial x_3} + 2x_{3} \\frac{\\partial}{\\partial x_1}\\wedge \\frac{\\partial}{\\partial x_4} - 2x_{4} \\frac{\\partial}{\\partial x_2}\\wedge \\frac{\\partial}{\\partial x_3} + 2x_{3} \\frac{\\partial}{\\partial x_2}\\wedge \\frac{\\partial}{\\partial x_4} + (x_{1}-x_{2}) \\frac{\\partial}{\\partial x_3}\\wedge \\frac{\\partial}{\\partial x_4}.$$ This bivector field is a particular case of a family of Poisson bivector fields that arise in the analysis of the orbital stability of the Pais-Uhlenbeck oscillator.\n",
        "\n",
        "* The function `modular_vf` computes the modular field of $\\Pi$ respect to a volume form $f\\Omega_{0}$ on $\\mathbb{R}^4$ ( here $f$ is nonwhere vanishing function and $\\Omega_{0}$ the euclidean volume form on $\\mathbb{R}^4$ ):"
      ]
    },
    {
      "cell_type": "code",
      "metadata": {
        "id": "keGBq86SkUXg",
        "colab_type": "code",
        "colab": {}
      },
      "source": [
        "from poisson.poisson import PoissonGeometry\n",
        "pg4 = PoissonGeometry(4)\n",
        "\n",
        "bivector ={(1,3):'2*x4', (1,4): '2*x3', (2,3): '-2*x4', (2,4): '2*x3', (3,4):'x1-x2'}\n",
        "pg4.modular_vf(bivector, 1)"
      ],
      "execution_count": 0,
      "outputs": []
    },
    {
      "cell_type": "markdown",
      "metadata": {
        "id": "JdHsYDzkqDGu",
        "colab_type": "text"
      },
      "source": [
        "So in this case the modular field of $\\Pi$ respect to the euclidean volume form is trivial.\n",
        "\n",
        "__Note__: The second entry for the function `curl_operator`, in this example `1`, can intake any real function $f$, in order to modify the volume form. "
      ]
    },
    {
      "cell_type": "markdown",
      "metadata": {
        "id": "pf1YeDs0s0vu",
        "colab_type": "text"
      },
      "source": [
        "For example, with the bivector field on $\\mathbb{R}^3$, $$\\Pi = x_{3}\\frac{\\partial}{\\partial x_1}\\wedge \\frac{\\partial}{\\partial x_2} -x_{2} \\frac{\\partial}{\\partial x_1}\\wedge \\frac{\\partial}{\\partial x_3} + x_{1}\\frac{\\partial}{\\partial x_2}\\wedge \\frac{\\partial}{\\partial x_3},$$ \n",
        "\n",
        "and the function $f(x_{1},x_{2},x_{3}) = \\mathrm{exp}(x_1 + x_2 + x_3)$, let's calculate the modular field of $\\Pi$ with respect to the form of volume $f\\Omega_{0}$:"
      ]
    },
    {
      "cell_type": "code",
      "metadata": {
        "id": "3jTMH4jksdEF",
        "colab_type": "code",
        "colab": {}
      },
      "source": [
        "from poisson.poisson import PoissonGeometry\n",
        "pg3 = PoissonGeometry(3)\n",
        "\n",
        "bivector = {(1,2): 'x3', (1,3): '-x2', (2,3): 'x1'}\n",
        "function = 'exp(x1 + x2 + x3)'\n",
        "pg3.modular_vf(bivector, function)"
      ],
      "execution_count": 0,
      "outputs": []
    },
    {
      "cell_type": "markdown",
      "metadata": {
        "id": "v9BZaHUqTEzr",
        "colab_type": "text"
      },
      "source": [
        "Therfore the modular field of $\\Pi$ respect to the volume form $f\\Omega_{0}$ is given by\n",
        "    \\begin{equation*}\n",
        "        (x_{3} - x_{2})\\frac{\\partial}{\\partial{x_{1}}} + (x_{1} - x_{3})\\frac{\\partial}{\\partial{x_{2}}} + (x_{2} - x_{1})\\frac{\\partial}{\\partial{x_{3}}}.\n",
        "    \\end{equation*}"
      ]
    },
    {
      "cell_type": "markdown",
      "metadata": {
        "id": "L87dBlusV3Gy",
        "colab_type": "text"
      },
      "source": [
        "###Function: `flashcka_ratiu_bivector`\n",
        "\n",
        "            COMPUTES THE FLASCHKA-RATIU BIVECTOR FIELD AND THE CORRESPONDING SYMPLECTIC FORM OF A 'MAXIMAL' SET OF SCALAR FUNCTIONS"
      ]
    },
    {
      "cell_type": "markdown",
      "metadata": {
        "id": "Ao6moXAAl2ep",
        "colab_type": "text"
      },
      "source": [
        "For example, consider the functions\n",
        "$$f(x_1, x_2, x_3, x_4) = x_4$$\n",
        "and\n",
        "$$g(x_1, x_2, x_3, x_4) = −x_1^2 + x_2^2 + x_3^2$$\n",
        "\n",
        "which locally describe a 'broken' singularity of a Lefschetz foliation on a 4-dimensional manifold [6]. \n",
        "\n",
        "We can construct a Poisson bivector field $\\Pi$ in such a way that the functions $f$ and $g$ are Casimirs of $\\Pi$:"
      ]
    },
    {
      "cell_type": "code",
      "metadata": {
        "id": "jtXpWOdyogND",
        "colab_type": "code",
        "colab": {}
      },
      "source": [
        "from poisson.poisson import PoissonGeometry\n",
        "pg4 = PoissonGeometry(4)\n",
        "\n",
        "casimirs = ['x4', '-x1**2 + x2**2 + x3**2']\n",
        "pg4.flaschka_ratiu_bivector(casimirs)"
      ],
      "execution_count": 0,
      "outputs": []
    },
    {
      "cell_type": "markdown",
      "metadata": {
        "id": "2XCpu2sg2sx2",
        "colab_type": "text"
      },
      "source": [
        "To obtain the symplectic form of $\\Pi$ on 2-dimensional leaves, we add the flag `symplectic_form=True`  "
      ]
    },
    {
      "cell_type": "code",
      "metadata": {
        "id": "sUr9qXHW27Uk",
        "colab_type": "code",
        "colab": {}
      },
      "source": [
        "bivector, symplectic_form = pg4.flaschka_ratiu_bivector(casimirs, symplectic_form=True)\n",
        "print(f'Poisson bivector field: {bivector}')\n",
        "print(f'Symplectic form: {symplectic_form}')"
      ],
      "execution_count": 0,
      "outputs": []
    },
    {
      "cell_type": "markdown",
      "metadata": {
        "id": "Whx3g1UAWERN",
        "colab_type": "text"
      },
      "source": [
        "###Function: `linear_normal_form_R3`\n",
        "\n",
        "            COMPUTES A NORMAL FORM OF ANY LIE-POISSON BIVECTOR FIELD ON R^3"
      ]
    },
    {
      "cell_type": "markdown",
      "metadata": {
        "id": "ruyTPUGFWX2W",
        "colab_type": "text"
      },
      "source": [
        "For example, consider the Lie-Poisson bivector field on  $\\mathbb{R}^{3}$,\n",
        "$$\\Pi = -10x_{3}\\frac{\\partial}{\\partial x_1}\\wedge \\frac{\\partial}{\\partial x_2} +10x_{2} \\frac{\\partial}{\\partial x_1}\\wedge \\frac{\\partial}{\\partial x_3} -10x_{1}\\frac{\\partial}{\\partial x_2}\\wedge \\frac{\\partial}{\\partial x_3}$$ \n",
        "\n",
        "To compute a normal form of $\\Pi$, run:"
      ]
    },
    {
      "cell_type": "code",
      "metadata": {
        "id": "LnFwQwZqVP9C",
        "colab_type": "code",
        "colab": {}
      },
      "source": [
        "from poisson.poisson import PoissonGeometry\n",
        "pg3 = PoissonGeometry(3)\n",
        "\n",
        "bivector = {(1,2): '-10*x3', (1,3): '10*x2', (2,3): '-10*x1'}\n",
        "pg3.linear_normal_form_R3(bivector)"
      ],
      "execution_count": 0,
      "outputs": []
    },
    {
      "cell_type": "markdown",
      "metadata": {
        "id": "KeprBLD4YoYe",
        "colab_type": "text"
      },
      "source": [
        "Note that $\\Pi$ is a multiple ($-10$) of the Lie-Poisson bivector field on $\\mathbb{R}^{3}$ induced by the Lie algebra $\\mathfrak{so}(3)$. Therefore, they belong to the same equivalence class."
      ]
    },
    {
      "cell_type": "markdown",
      "metadata": {
        "id": "5r8mmXdscZsz",
        "colab_type": "text"
      },
      "source": [
        "### Function: `one_forms_bracket`\n",
        "\n",
        "            COMPUTES THE LIE BRACKET OF TWO DIFFERENTIAL 1-FORMS INDUCED BY A POISSON BIVECTOR FIELD"
      ]
    },
    {
      "cell_type": "markdown",
      "metadata": {
        "id": "64h49WyHcgX0",
        "colab_type": "text"
      },
      "source": [
        "For example, consider the following bivector on $\\mathbb{R}^{4}$,\n",
        "$$\\Pi = \\big( x_3^2 + x_4^2 \\big)\\frac{\\partial}{\\partial{x_{1}}} \\wedge \\frac{\\partial}{\\partial{x_{2}}} \n",
        "        + \\big( x_2x_3 - x_1x_4\\big)\\frac{\\partial}{\\partial{x_{1}}} \\wedge \\frac{\\partial}{\\partial{x_{3}}} \n",
        "        - \\big( x_1x_3 + x_2x_4\\big)\\frac{\\partial}{\\partial{x_{1}}} \\wedge \\frac{\\partial}{\\partial{x_{4}}}\n",
        "        + \\big( x_1x_3 + x_2x_4\\big)\\frac{\\partial}{\\partial{x_{2}}} \\wedge \\frac{\\partial}{\\partial{x_{3}}} \n",
        "        + \\big( x_2x_3 - x_1x_4\\big)\\frac{\\partial}{\\partial{x_{2}}} \\wedge \\frac{\\partial}{\\partial{x^{4}}} \n",
        "        + \\big( x_1^2 + x_2^2 \\big)\\frac{\\partial}{\\partial{x_{3}}} \\wedge \\frac{\\partial}{\\partial{x_{4}}},$$\n",
        "\n",
        "and the 1-forms\n",
        "$$\\alpha = x_1\\mathrm{d}{x_1} - x_2\\mathrm{d}{x_2} + x_3\\mathrm{d}{x_3} - x_4\\mathrm{d}{x_4} \\quad \\mathrm{and} \\quad \\beta = x_2\\mathrm{d}{x_1} + x_1\\mathrm{d}{x_2} + x_4\\mathrm{d}{x_3} + x_3\\mathrm{d}{x_4}$$.\n",
        "\n",
        "To compute the Lie bracket, induced by $\\Pi$, of $\\alpha$ and $\\beta$, run: "
      ]
    },
    {
      "cell_type": "code",
      "metadata": {
        "id": "bkV0cP7TeK9J",
        "colab_type": "code",
        "colab": {}
      },
      "source": [
        "from poisson.poisson import PoissonGeometry\n",
        "pg4 = PoissonGeometry(4)\n",
        "\n",
        "bivector ={(1,2): 'x3**2 + x4**2', (1,3): 'x2*x3 - x1*x4', (1,4): '-x1*x3 - x2*x4', (2,3): 'x1*x3 + x2*x4', (2,4): 'x2*x3 - x1*x4', (3,4): 'x1**2 + x2**2'}\n",
        "alpha = {(1,): 'x1', (2,): '-x2', (3,): 'x3', (4,): '-x4'}\n",
        "beta = {(1,): 'x2', (2,): 'x1', (3,): 'x4', (4,): 'x3'}\n",
        "pg4.one_forms_bracket(bivector, alpha, beta)"
      ],
      "execution_count": 0,
      "outputs": []
    },
    {
      "cell_type": "markdown",
      "metadata": {
        "id": "XBtu7KFMUMfR",
        "colab_type": "text"
      },
      "source": [
        "So $\\{\\alpha, \\beta\\}_{\\Pi} = 0$."
      ]
    },
    {
      "cell_type": "markdown",
      "metadata": {
        "id": "-EPY7R48fzZ6",
        "colab_type": "text"
      },
      "source": [
        "## **Applications**"
      ]
    },
    {
      "cell_type": "markdown",
      "metadata": {
        "id": "L6951AG4Zp1k",
        "colab_type": "text"
      },
      "source": [
        "### Function: `gauge_transformation`\n",
        "\n",
        "            COMPUTES THE GAUGE TRANSFORMATION OF A BIVECTOR FIELD WITH RESPECT TO A GIVEN DIFFERENTIAL 2-FORM"
      ]
    },
    {
      "cell_type": "markdown",
      "metadata": {
        "id": "0oW6b5FJZ1J7",
        "colab_type": "text"
      },
      "source": [
        "For example, consider an arbitrary bivector field on $\\mathbb{R}^3$,\n",
        "\n",
        "$$\\Pi=\\Pi_{12} \\frac{\\partial}{\\partial x_{1}} \\wedge \\frac{\\partial}{\\partial x_{2}} + \\Pi_{13} \\frac{\\partial}{\\partial x_{1}} \\wedge \\frac{\\partial}{\\partial x_{3}} + \\Pi_{23} \\frac{\\partial}{\\partial x_{2}} \\wedge \\frac{\\partial}{\\partial x_{3}}$$\n",
        "\n",
        "and a differential $2$-form, \n",
        "\n",
        "$$\\lambda = \\lambda_{12} \\mathrm{d}x_{1}\\wedge \\mathrm{d}x_{2} + \\lambda_{13} \\mathrm{d}x_{1}\\wedge \\mathrm{d}x_{3} + \\lambda_{23} \\mathrm{d}x_{2}\\wedge \\mathrm{d}x_{3}$$\n",
        "\n",
        "To compute the gauge transformation of $\\Pi$ induced by $\\lambda$, run:"
      ]
    },
    {
      "cell_type": "code",
      "metadata": {
        "id": "9NAOSQ14c3Xq",
        "colab_type": "code",
        "colab": {}
      },
      "source": [
        "import pprint \n",
        "pp = pprint.PrettyPrinter(indent=2)\n",
        "\n",
        "from poisson.poisson import PoissonGeometry\n",
        "pg3 = PoissonGeometry(3)\n",
        "\n",
        "P = {(1,2):  'P12', (1,3):  'P13', (2,3):  'P23'}\n",
        "L = {(1,2): 'L12', (1,3): 'L13', (2,3): 'L23'}\n",
        "gauge_bivector, determinant = pg3.gauge_transformation(P, L)\n",
        "\n",
        "print('L-gauge transformation of P:')\n",
        "pp.pprint(gauge_bivector)\n",
        "print(f'\\nIt\\'s well-defined on the open subset \\n {{{determinant} != 0}} \\n of R^3')"
      ],
      "execution_count": 0,
      "outputs": []
    },
    {
      "cell_type": "markdown",
      "metadata": {
        "id": "H9TLMHRtX84y",
        "colab_type": "text"
      },
      "source": [
        "* Therefore we obtain [5]:"
      ]
    },
    {
      "cell_type": "markdown",
      "metadata": {
        "id": "B_OzGt0TWpi2",
        "colab_type": "text"
      },
      "source": [
        "**Proposition 3.1** Let $\\Pi$ be a bivector field on a 3-dimensional smooth manifold $M$. Then, given a differential 2-form $\\lambda$ on $M$, the $\\lambda$-gauge transformation $\\overline{\\Pi}$ of $\\Pi$ is well defined on the open subset of $M$\n",
        "    \\begin{equation*}\n",
        "        \\{F := \\big\\langle \\lambda,\\Pi \\big\\rangle + 1 \\neq 0 \\} \\subseteq M.\n",
        "    \\end{equation*}\n",
        "Moreover, $\\overline{\\Pi}$ is given by\n",
        "    \\begin{equation*}\n",
        "        \\overline{\\Pi} = \\tfrac{1}{F}\\Pi.\n",
        "    \\end{equation*}\n",
        "If $\\Pi$ is a Poisson bivector field and $\\lambda$ is closed along the leaves of $\\Pi$, then $\\overline{\\Pi}$ is also Poisson."
      ]
    },
    {
      "cell_type": "markdown",
      "metadata": {
        "id": "mK1DkPOyf5H9",
        "colab_type": "text"
      },
      "source": [
        "### Function: `jacobiator`\n",
        "\n",
        "            COMPUTES THE SCHOUTEN-NIJENHUIS BRACKET OF A BIVECTOR FIELD WITH ITSELF\n"
      ]
    },
    {
      "cell_type": "markdown",
      "metadata": {
        "id": "0lfLlVXDgSZz",
        "colab_type": "text"
      },
      "source": [
        "For example, we can modify the following $4$-parametric bivector field on $\\mathbb{R}^{4}$\n",
        "\n",
        "$$ \\Pi=a_1 x_2 \\frac{\\partial}{\\partial x_{1}} \\wedge \\frac{\\partial}{\\partial x_{2}} + a_2 x_3 \\frac{\\partial}{\\partial x_{1}} \\wedge \\frac{\\partial}{\\partial x_{3}} + a_3 x_4 \\frac{\\partial}{\\partial x_{1}} \\wedge \\frac{\\partial}{\\partial x_{4}} + a_4 x_1 \\frac{\\partial}{\\partial x_{2}} \\wedge \\frac{\\partial}{\\partial x_{3}}, $$\n",
        "\n",
        "using the `jacobiator` function, to construct a family of Poisson bivector fields on $\\mathbb{R}^{4}$:"
      ]
    },
    {
      "cell_type": "code",
      "metadata": {
        "id": "E9mpVwigi7jo",
        "colab_type": "code",
        "colab": {}
      },
      "source": [
        "from poisson.poisson import PoissonGeometry\n",
        "pg4 = PoissonGeometry(4)\n",
        "\n",
        "bivector = {(1,2): 'a1*x2', (1,3): 'a2*x3', (1,4): 'a3*x4', (2,3): 'a4*x1'}\n",
        "pg4.jacobiator(bivector)"
      ],
      "execution_count": 0,
      "outputs": []
    },
    {
      "cell_type": "markdown",
      "metadata": {
        "id": "Eu4koIrjjVpe",
        "colab_type": "text"
      },
      "source": [
        "Therefore,\n",
        "    \\begin{equation*}\n",
        "        [\\hspace{-0.065cm}[ \\Pi,\\Pi ]\\hspace{-0.065cm}] = -2a_{4}(a_{1}+a_{2})x^1\\,\\frac{\\partial}{\\partial{x^{1}}} \\wedge \\frac{\\partial}{\\partial{x^{2}}} \\wedge \\frac{\\partial}{\\partial{x^{3}}} - 2a_{3}a_{4}x^4\\frac{\\partial}{\\partial{x^{2}}} \\wedge \\frac{\\partial}{\\partial{x^{3}}} \\wedge \\frac{\\partial}{\\partial{x^{4}}}.\n",
        "    \\end{equation*}\n",
        "\n",
        "Hence, we have two cases, explained in the following lemma [5]."
      ]
    },
    {
      "cell_type": "markdown",
      "metadata": {
        "id": "gMs8yBtCYIfQ",
        "colab_type": "text"
      },
      "source": [
        "**Lemma 3.2** If $a_{4}=0$, then $\\Pi$ determines a 3-parametric family of Poisson bivector fields on $\\mathbb{R}^{4}_{x}$:\n",
        "    \\begin{equation}\n",
        "        \\Pi \\,=\\, a_{1}x^2\\,\\frac{\\partial}{\\partial{x^{1}}} \\wedge \\frac{\\partial}{\\partial{x^{2}}}\n",
        "            + a_{2}x^3\\,\\frac{\\partial}{\\partial{x^{1}}} \\wedge \\frac{\\partial}{\\partial{x^{3}}}\n",
        "            + a_{3}x^4\\,\\frac{\\partial}{\\partial{x^{1}}} \\wedge \\frac{\\partial}{\\partial{x^{4}}}.\n",
        "    \\end{equation}\n",
        "    \n",
        "If $a_{2}=-a_{1}$ and $a_{3}=0$, then $\\Pi$ determines a 2-parametric family of Poisson bivector fields on $\\mathbb{R}^{4}_{x}$:\n",
        "\\begin{equation}\n",
        "        \\Pi \\,=\\, a_{1}x^2\\,\\frac{\\partial}{\\partial{x^{1}}} \\wedge \\frac{\\partial}{\\partial{x^{2}}} - a_{1}x^3\\,\\frac{\\partial}{\\partial{x^{1}}} \\wedge \\frac{\\partial}{\\partial{x^{3}}} + a_{4}x^1\\,\\frac{\\partial}{\\partial{x^{2}}} \\wedge \\frac{\\partial}{\\partial{x^{3}}}.\n",
        "    \\end{equation}"
      ]
    },
    {
      "cell_type": "markdown",
      "metadata": {
        "id": "XxxguqtJnXeO",
        "colab_type": "text"
      },
      "source": [
        "## **'Test-Type' Functions**"
      ]
    },
    {
      "cell_type": "markdown",
      "metadata": {
        "id": "cAB7WAOznbh_",
        "colab_type": "text"
      },
      "source": [
        "Functions which allow us to verify whether a given geometric object on a Poisson manifold satisfies certain property."
      ]
    },
    {
      "cell_type": "markdown",
      "metadata": {
        "id": "gkg4431Vnq7k",
        "colab_type": "text"
      },
      "source": [
        "### Function: `is_homogeneous_unimodular`\n",
        "\n",
        "            VERIFIES WHETHER AN HOMOGENEOUS POISSON BIVECTOR FIELD ON R^m IS UNIMODULAR, OR NOT"
      ]
    },
    {
      "cell_type": "markdown",
      "metadata": {
        "id": "Bs9BsJMlnz8_",
        "colab_type": "text"
      },
      "source": [
        "For example, consider the bivector of Poisson on $\\mathbb{R}^{4}$,\n",
        "$$\\Pi = 2x_{4}\\frac{\\partial}{\\partial x_1}\\wedge \\frac{\\partial}{\\partial x_3} + 2x_{3} \\frac{\\partial}{\\partial x_1}\\wedge \\frac{\\partial}{\\partial x_4} - 2x_{4} \\frac{\\partial}{\\partial x_2}\\wedge \\frac{\\partial}{\\partial x_3} + 2x_{3} \\frac{\\partial}{\\partial x_2}\\wedge \\frac{\\partial}{\\partial x_4} + (x_{1}-x_{2}) \\frac{\\partial}{\\partial x_3}\\wedge \\frac{\\partial}{\\partial x_4}.$$ \n",
        "\n",
        "This Poisson bivector field arises in the analysis of the orbital stability of the Pais-Uhlenbeck oscillator at $\\mathbb{R}^{4}$ [2]. As we saw above, $\\Pi$ has a trivial modular field relative to the euclidean volume form on $\\mathbb{R}^{4}$, so it's an unimodular Poisson bivector on $\\mathbb{R}^{4}$. We can verify this with:"
      ]
    },
    {
      "cell_type": "code",
      "metadata": {
        "id": "ARz0fiS4n-bO",
        "colab_type": "code",
        "colab": {}
      },
      "source": [
        "from poisson.poisson import PoissonGeometry\n",
        "pg4 = PoissonGeometry(4)\n",
        "\n",
        "P ={(1,3): '-2*x4', (1,4): '2*x3', (2,3): '-2*x4', (2,4): '2*x3', (3,4): 'x1 + x2'}\n",
        "pg4.is_homogeneous_unimodular(P)"
      ],
      "execution_count": 0,
      "outputs": []
    },
    {
      "cell_type": "markdown",
      "metadata": {
        "id": "ZKYHT_z8sMqC",
        "colab_type": "text"
      },
      "source": [
        "### Function: `isomorphic_lie_poisson`\n",
        "\n",
        "            VERIFIES WHETHER TWO LIE-POISSON BIVECTOR FIELDS ON R^3 ARE ISOMORPHIC, OR NOT"
      ]
    },
    {
      "cell_type": "markdown",
      "metadata": {
        "id": "fuvOLrUtsT97",
        "colab_type": "text"
      },
      "source": [
        "For example, the bivector fields\n",
        "\n",
        "$$\\Pi_{1} = x_{3}\\frac{\\partial}{\\partial x_1}\\wedge \\frac{\\partial}{\\partial x_2} -x_{2} \\frac{\\partial}{\\partial x_1}\\wedge \\frac{\\partial}{\\partial x_3} + x_{1}\\frac{\\partial}{\\partial x_2}\\wedge \\frac{\\partial}{\\partial x_3},$$\n",
        "and \n",
        "$$\\Pi_{2} = -x_{3}\\frac{\\partial}{\\partial x_1}\\wedge \\frac{\\partial}{\\partial x_2} -x_{2} \\frac{\\partial}{\\partial x_1}\\wedge \\frac{\\partial}{\\partial x_3} + x_{1}\\frac{\\partial}{\\partial x_2}\\wedge \\frac{\\partial}{\\partial x_3},$$ \\\\\n",
        "\n",
        "which are induced by the Lie algebras $\\mathfrak{so}(3)$ and $\\mathfrak{sl}(2)$, respectively, are NOT isomorphic:"
      ]
    },
    {
      "cell_type": "code",
      "metadata": {
        "id": "mrp2i2Zeous_",
        "colab_type": "code",
        "colab": {}
      },
      "source": [
        "from poisson.poisson import PoissonGeometry\n",
        "pg3 = PoissonGeometry(3)\n",
        "\n",
        "P1 ={(1,2): 'x3', (1,3): '-x2', (2,3): 'x1'}\n",
        "P2 ={(1,2): '-x3', (1,3): '-x2', (2,3): 'x1'}\n",
        "pg3.isomorphic_lie_poisson_R3(P1, P2)"
      ],
      "execution_count": 0,
      "outputs": []
    },
    {
      "cell_type": "markdown",
      "metadata": {
        "id": "XwaVu-Xot5Sp",
        "colab_type": "text"
      },
      "source": [
        "### Function: `is_poisson_bivector`\n",
        "\n",
        "            VERIFIES IF A GIVEN BIVECTOR FIELD IS A POISSON BIVECTOR FIELD OR NOT"
      ]
    },
    {
      "cell_type": "markdown",
      "metadata": {
        "id": "pV_fs5bVuCtT",
        "colab_type": "text"
      },
      "source": [
        "For example, we can verify that the bivector field on $\\mathbb{R}^{4}$,\n",
        "\n",
        "$$\\Pi = x_{2}\\frac{\\partial}{\\partial x_1}\\wedge \\frac{\\partial}{\\partial x_2} + x_{3} \\frac{\\partial}{\\partial x_1}\\wedge \\frac{\\partial}{\\partial x_3} + x_{4} \\frac{\\partial}{\\partial x_1}\\wedge \\frac{\\partial}{\\partial x_4} + x_{1} \\frac{\\partial}{\\partial x_2}\\wedge \\frac{\\partial}{\\partial x_3}$$\n",
        "\n",
        "It's NOT a Poisson bivector field:"
      ]
    },
    {
      "cell_type": "code",
      "metadata": {
        "id": "NWNnGZF5sMJs",
        "colab_type": "code",
        "colab": {}
      },
      "source": [
        "from poisson.poisson import PoissonGeometry\n",
        "pg4 = PoissonGeometry(4)\n",
        "\n",
        "bivector = {(1,2): 'x2', (1,3): 'x3', (1,4): 'x4', (2,3): 'x1'}\n",
        "pg4.is_poisson_bivector(bivector)"
      ],
      "execution_count": 0,
      "outputs": []
    },
    {
      "cell_type": "markdown",
      "metadata": {
        "id": "VOlgiQ500w2y",
        "colab_type": "text"
      },
      "source": [
        "###Function: `is_in_kernel`\n",
        "\n",
        "            VERIFIES WHETHER A DIFFERENTIAL 1-FORM BELONGS TO THE KERNEL OF A (POISSON) BIVECTOR FIELD"
      ]
    },
    {
      "cell_type": "markdown",
      "metadata": {
        "id": "h1ZG-m5r5QAm",
        "colab_type": "text"
      },
      "source": [
        "For example, for the quadratic Flaschka-Ratiu bivector field on $\\mathbb{R}^{4}$ [6]\n",
        "\n",
        "\\begin{align*}\n",
        "\\Pi &= (x_{3}^{2}+x_{4}^{2})\\frac{\\partial}{\\partial x_1}\\wedge \\frac{\\partial}{\\partial x_2} + (x_{2}x_{3} - x_{1}x_{4}) \\frac{\\partial}{\\partial x_1}\\wedge \\frac{\\partial}{\\partial x_3} - (x_{1}x_{3} + x_{2}x_{4}) \\frac{\\partial}{\\partial x_1}\\wedge \\frac{\\partial}{\\partial x_4} + (x_{1}x_{3} + x_{2}x_{4}) \\frac{\\partial}{\\partial x_2}\\wedge \\frac{\\partial}{\\partial x_3} \\\\ &+ (x_{2}x_{3} - x_{1}x_{4}) \\frac{\\partial}{\\partial x_2}\\wedge \\frac{\\partial}{\\partial x_4} + (x_{1}^{2} + x_{2}^{2}) \\frac{\\partial}{\\partial x_3}\\wedge \\frac{\\partial}{\\partial x_4},\n",
        "\\end{align*}\n",
        "\n",
        "we can verify that the differential 1-form $\\alpha = x _{1}\\mathrm{d}_{1} + x_{2}\\mathrm{d}_{2} + x_{3}\\mathrm{d}_{3} + x_{4}\\mathrm{d}_{4}$ belongs to the kernel of $\\Pi$. In other words, that $\\Pi^{\\#}(\\alpha)=0$:  \n"
      ]
    },
    {
      "cell_type": "code",
      "metadata": {
        "id": "f8UULXOvE1y4",
        "colab_type": "code",
        "colab": {}
      },
      "source": [
        "from poisson.poisson import PoissonGeometry\n",
        "pg4 = PoissonGeometry(4)\n",
        "\n",
        "bivector = {(1,2): 'x3**2 + x4**2', (1,3): 'x2*x3 - x1*x4', (1,4): '-x1*x3 - x2*x4', \n",
        "            (2,3): 'x1*x3 + x2*x4', (2,4): 'x2*x3 - x1*x4', (3,4): 'x1**2 + x2**2'}\n",
        "alpha ={(1,): 'x1', (2,): '-x2', (3,): 'x3', (4,): '-x4'}\n",
        "pg4.is_in_kernel(bivector, alpha)"
      ],
      "execution_count": 0,
      "outputs": []
    },
    {
      "cell_type": "markdown",
      "metadata": {
        "id": "SaU4FV__J5Mi",
        "colab_type": "text"
      },
      "source": [
        "### Functions: `is_casimir` and `is_poisson_vf`\n",
        "\n",
        "            GIVEN A POISSON BIVECTOR FIELD P, WITH THESE FUNCTIONS WE CAN VERIFY WHETHER A SCALAR FUNCTION IS A CASIMIR FUNCTION OF P\n",
        "            OR WHETHER A VECTOR FIELD IS A POISSON VECTOR FIELD FOR P, RESPECTIVELY"
      ]
    },
    {
      "cell_type": "markdown",
      "metadata": {
        "id": "ea6CMNShOXXP",
        "colab_type": "text"
      },
      "source": [
        "Consider the Lie-Poisson bivector field on $\\mathbb{R}^{3}$\n",
        "\n",
        "$$\\Pi = -x_3\\frac{\\partial}{\\partial x_1}\\wedge \\frac{\\partial}{\\partial x_2} - x_2\\frac{\\partial}{\\partial x_1}\\wedge \\frac{\\partial}{\\partial x_3} + x_1 \\frac{\\partial}{\\partial x_2}\\wedge \\frac{\\partial}{\\partial x_3},$$\n",
        "\n",
        "associated to the Lie algebra $\\mathfrak{sl}(2)$ and a Casimir function $K$ of $\\Pi$ given by\n",
        "\n",
        "$$K = x_{1}^{2} + x_{2}^{2} + x_{3}^{2}$$:\n"
      ]
    },
    {
      "cell_type": "code",
      "metadata": {
        "id": "xIWp4qIlP24c",
        "colab_type": "code",
        "colab": {}
      },
      "source": [
        "from poisson.poisson import PoissonGeometry\n",
        "pg3 = PoissonGeometry(3)\n",
        "\n",
        "bivector = {(1,2): '-x3', (1,3): '-x2', (2,3): 'x1'}\n",
        "K = 'x1**2 + x2**2 - x3**2'\n",
        "pg3.is_casimir(bivector, K)"
      ],
      "execution_count": 0,
      "outputs": []
    },
    {
      "cell_type": "markdown",
      "metadata": {
        "id": "jjlQMY98Rre4",
        "colab_type": "text"
      },
      "source": [
        "This verifies that in effect $K$ is a Casimir function of $\\Pi$. Now let's consider the function $f:\\mathbb{R}\\to\\mathbb{R}$ defined by\n",
        "$$f(t) := \\left\\{\n",
        "            \\begin{array}{ll}\n",
        "              e^{-\\frac{1}{t^2}} & \\hbox{if} \\quad t>0, \\\\\n",
        "              0 & \\hbox{en otro caso.}\n",
        "            \\end{array}\n",
        "          \\right.$$\n",
        "\n",
        "Let's define a smooth function $F$ by $F:=f\\circ K$. Then, The vector field\n",
        "$$ W := \\frac{x_1 F}{x_1^2 + x_2^2}\\,\\frac{\\partial}{\\partial{x_1}} \\,+\\, \\frac{x_1 F}{x_2^2 + x_2^2} \\frac{\\partial}{\\partial{x_2}}$$\n",
        "\n",
        "is a Poisson vector field of $\\Pi$:"
      ]
    },
    {
      "cell_type": "code",
      "metadata": {
        "id": "afmntnHtUcTx",
        "colab_type": "code",
        "colab": {}
      },
      "source": [
        "from poisson.poisson import PoissonGeometry\n",
        "pg3 = PoissonGeometry(3)\n",
        "\n",
        "bivector = {(1,2): '-x3', (1,3): '-x2', (2,3): 'x1'}\n",
        "W = {(1,): 'x1*exp(-1/(x1**2 + x2**2 - x3**2))/(x1**2 + x2**2)', (2,): 'x2*exp(-1/(x1**2 + x2**2 - x3**2))/(x1**2 + x2**2)', (3,): 0}\n",
        "pg3.is_poisson_vf(bivector, W)"
      ],
      "execution_count": 0,
      "outputs": []
    },
    {
      "cell_type": "markdown",
      "metadata": {
        "id": "BxlustD4XEO8",
        "colab_type": "text"
      },
      "source": [
        "Notice that  $W$ **IS NOT** a **Hamiltonian** field of $\\Pi$ [8]."
      ]
    },
    {
      "cell_type": "markdown",
      "metadata": {
        "id": "DXJkm28yKHB3",
        "colab_type": "text"
      },
      "source": [
        "### Function: `is_poisson_pair` \n",
        "\n",
        "            VERIFIES WHETHER A COUPLE OF POISSON BIVECTOR FIELDS FORM A POISSON PAIR."
      ]
    },
    {
      "cell_type": "markdown",
      "metadata": {
        "id": "oRONeQX4LAWM",
        "colab_type": "text"
      },
      "source": [
        "Consider\n",
        "$$ \\Pi = ax_1 x_2\\frac{\\partial}{\\partial x_1}\\wedge \\frac{\\partial}{\\partial x_2} - b x_1 x_3\\frac{\\partial}{\\partial x_1}\\wedge \\frac{\\partial}{\\partial x_3} + b x_2 x_3 \\frac{\\partial}{\\partial x_2}\\wedge \\frac{\\partial}{\\partial x_3}, $$\n",
        "and\n",
        "$$ \\Psi = x_3^{2} \\frac{\\partial}{\\partial x_1}\\wedge \\frac{\\partial}{\\partial x_2}.$$ \n",
        "\n",
        "Then:"
      ]
    },
    {
      "cell_type": "code",
      "metadata": {
        "id": "J5-7lFf3MsDa",
        "colab_type": "code",
        "colab": {}
      },
      "source": [
        "from poisson.poisson import PoissonGeometry\n",
        "pg3 = PoissonGeometry(3)\n",
        "\n",
        "Pi = {(1,2): 'a*x1*x2', (1,3): '-b*x1*x3', (2,3): 'b*x2*x3'}\n",
        "Psi = {(1,2): 'x3**2'}\n",
        "pg3.is_poisson_pair(Pi, Psi)"
      ],
      "execution_count": 0,
      "outputs": []
    },
    {
      "cell_type": "markdown",
      "metadata": {
        "id": "2NMNAK80N2W-",
        "colab_type": "text"
      },
      "source": [
        "Therefore, $\\Pi$ and $\\Psi$ form a Poisson pair."
      ]
    },
    {
      "cell_type": "markdown",
      "metadata": {
        "id": "UMFsgVpjxbHc",
        "colab_type": "text"
      },
      "source": [
        "## __Bibliografía__\n",
        "\n"
      ]
    },
    {
      "cell_type": "markdown",
      "metadata": {
        "id": "DzcgdVi1xjqo",
        "colab_type": "text"
      },
      "source": [
        "[1] M. Ammar, G. Kass, M. Masmoudi, N. Poncin, *Strongly R-Matrix Induced Tensors, Koszul Cohomology, and Arbitrary-Dimensional Quadratic Poisson Cohomology*, Pac. J. Math. 245, 1-23 (2010)\n",
        "\n",
        "[2] M. Avendaño-Camacho, J. A. Vallejo and Yu. Vorobiev, *A Perturbation Theory Approach to the Stability of the Pais-Uhlenbeck Oscillator*, J. Math. Phys. 58, (2017)\n",
        "\n",
        "[3] P. G. Breen, C. N. Foley, T. Boekholt, S. P. Zwart, *Newton vs the Machine: Solving the Chaotic Three-Body Problem Using Deep Neural Networks*, arXiv:1910.07291 [astro-ph.GA]\n",
        "\n",
        "[4] J. P. Dufour and N. T. Zung, *Poisson Structures and their Normal Forms*, Progress in Mathematics, 242, Birkh\\\"auser Verlag, Basel, (2005)\n",
        "\n",
        "[5] M. Evangelista-Alvarado, J. C. Ruíz-Pantaleón, P. Suárez-Serrato, *On Computational Poisson Geometry I: Symbolic Foundations*\n",
        "\n",
        "[6] L. C. Garcia-Naranjo,  P.  Suárez-Serrato  and  R.  Vera, *Poisson  Structures  on  Smooth 4-manifolds*, Lett. Math. Phys. 105, 1533-1550 (2015)\n",
        "\n",
        "[7] C. Laurent-Gengoux, A. Pichereau and P. Vanhaecke, *Poisson Structures*,\n",
        "Grundlehren der mathematischen Wissenschaften, 347, Springer-Verlag Berlin Heidelberg, (2013)\n",
        "\n",
        "[8] N. Nakanishi, *On the Structure of Infinitesimal Automorphisms of Linear Poisson Manifolds I*, J. Math. Kyoto Univ. 31, 71-82 (1991)\n"
      ]
    }
  ]
}